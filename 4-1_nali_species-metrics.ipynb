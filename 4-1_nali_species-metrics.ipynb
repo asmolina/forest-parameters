{
 "cells": [
  {
   "cell_type": "code",
   "execution_count": 1,
   "id": "e75d824a-63a6-418b-8566-75dfe21ac3b6",
   "metadata": {},
   "outputs": [
    {
     "name": "stderr",
     "output_type": "stream",
     "text": [
      "/beegfs/home/alina.smolina/forest-co2/dataset.py:10: TqdmExperimentalWarning: Using `tqdm.autonotebook.tqdm` in notebook mode. Use `tqdm.tqdm` instead to force console mode (e.g. in jupyter console)\n",
      "  from tqdm.autonotebook import tqdm\n"
     ]
    }
   ],
   "source": [
    "from dataset import (\n",
    "    get_dataset, \n",
    "    save_map, \n",
    "    save_pred_map_to_tif\n",
    ")\n",
    "from metrics import (\n",
    "    get_metrics,\n",
    "    get_classification_metrics,\n",
    "    get_feature_importances, \n",
    "    get_catboost_importances, \n",
    ")\n",
    "from vis import (\n",
    "    plot_image,\n",
    "    plot_mask,\n",
    "    plot_SCL,\n",
    "    draw_maps,\n",
    ")\n",
    "\n",
    "import matplotlib.pyplot as plt\n",
    "from rasterio.windows import Window\n",
    "import pandas as pd\n",
    "import wandb\n",
    "import rasterio\n",
    "import numpy as np\n",
    "import tifffile as tiff\n",
    "import wandb\n",
    "from sklearn.model_selection import train_test_split\n",
    "\n",
    "%load_ext autoreload\n",
    "%autoreload 2   "
   ]
  },
  {
   "cell_type": "code",
   "execution_count": 2,
   "id": "e68c4d6b-e4ac-4aa5-8d1b-7bab72af4e4f",
   "metadata": {
    "tags": []
   },
   "outputs": [],
   "source": [
    "path_S2B_list = [\n",
    "    './data/tile_UTM38N/20180730/',\n",
    "    './data/tile_UTM38N/20180804/',\n",
    "    './data/tile_UTM38N/20180827/',\n",
    "    './data/tile_UTM38N/20180911/',\n",
    "    './data/tile_UTM38N/20190608/',\n",
    "    './data/tile_UTM38N/20190613/',\n",
    "    './data/tile_UTM38N/20200604/',\n",
    "    './data/tile_UTM38N/20200709/',\n",
    "]\n",
    "\n",
    "channels = ['B02', 'B03', 'B04', 'B05', 'B06', 'B07', 'B08', 'B8A', 'B11', 'B12']\n",
    "\n",
    "target = 'type'"
   ]
  },
  {
   "cell_type": "code",
   "execution_count": 3,
   "id": "1c77465d-35c3-487a-a2d4-442622cf603b",
   "metadata": {
    "tags": []
   },
   "outputs": [],
   "source": [
    "# Get table with types and ages\n",
    "y0, x0 = 6000, 0\n",
    "window_n = Window.from_slices((y0, y0 + 4000), (x0, x0 + 2700))\n",
    "\n",
    "y0, x0 = 0, 5700\n",
    "window_r = Window.from_slices((y0, y0 + 7000), (x0, x0 + 10000))\n",
    "\n",
    "\n",
    "### Test\n",
    "y0, x0 = 7500, 2700\n",
    "window_k = Window.from_slices((y0, y0 + 3000), (x0, x0 + 1200))"
   ]
  },
  {
   "cell_type": "code",
   "execution_count": 4,
   "id": "ae27a540-eddd-46f8-ba57-155315fb83b5",
   "metadata": {
    "tags": []
   },
   "outputs": [],
   "source": [
    "## Stacking of several dates\n",
    "def stack_several_dates_dataset(path_S2B_list, \n",
    "                              target, \n",
    "                              channels_list=['B02'], \n",
    "                              window=None, \n",
    "                              indices=False):\n",
    "    dataset_list = []\n",
    "    ch_list = channels_list + [target]\n",
    "\n",
    "    for path_S2B in path_S2B_list:\n",
    "        dataset = get_dataset(\n",
    "            path_S2B, \n",
    "            channels_list=ch_list, \n",
    "            window=window, \n",
    "            visualise=False, \n",
    "            indices=indices)\n",
    "        \n",
    "        dataset = dataset[dataset[target] > 0]\n",
    "        \n",
    "        #### классификация:\n",
    "        # dataset = dataset.query('(`1layer_main_species` == 1) | (`1layer_main_species` == 2) | (`1layer_main_species` == 3) | (`1layer_main_species` == 4) | (`1layer_main_species` == 5) | (`1layer_main_species` == 9)')\n",
    "\n",
    "        # dataset = dataset[dataset[target] != 3]\n",
    "        \n",
    "        dataset_list.append(dataset)\n",
    "\n",
    "    dataset = pd.concat(dataset_list)\n",
    "        \n",
    "    return dataset"
   ]
  },
  {
   "cell_type": "code",
   "execution_count": 5,
   "id": "a589e454-03be-404d-aa22-f80f2f1d96a1",
   "metadata": {
    "tags": []
   },
   "outputs": [],
   "source": [
    "dataset = pd.concat([\n",
    "    stack_several_dates_dataset(path_S2B_list, target, channels_list=channels, window=window_n, indices=True),\n",
    "    stack_several_dates_dataset(path_S2B_list, target, channels_list=channels, window=window_r, indices=True),\n",
    "])\n",
    "\n",
    "Y = dataset[target]\n",
    "X = dataset.drop(labels=[target, 'x', 'y'], axis=1)"
   ]
  },
  {
   "cell_type": "code",
   "execution_count": 6,
   "id": "cf54b61f-8c4a-489b-adf8-e13737fd7299",
   "metadata": {
    "tags": []
   },
   "outputs": [
    {
     "data": {
      "text/plain": [
       "(89416645, 19)"
      ]
     },
     "execution_count": 6,
     "metadata": {},
     "output_type": "execute_result"
    }
   ],
   "source": [
    "dataset.shape"
   ]
  },
  {
   "cell_type": "code",
   "execution_count": 7,
   "id": "0fc8ef25-8688-4765-aa83-53c5e106c821",
   "metadata": {
    "tags": []
   },
   "outputs": [
    {
     "name": "stdout",
     "output_type": "stream",
     "text": [
      "60803318 10729998 17883329\n",
      "Train proportion: 0.680\n",
      "Val proportion: 0.120\n",
      "Test_random proportion: 0.200\n"
     ]
    }
   ],
   "source": [
    "X_train, X_test1, Y_train, Y_test1 = train_test_split(X, Y, test_size=0.2, random_state=0)\n",
    "X_train, X_val, Y_train, Y_val = train_test_split(X_train, Y_train, test_size=0.15, random_state=0)\n",
    "\n",
    "print(len(X_train), len(X_val), len(X_test1))\n",
    "print(f'Train proportion: {len(X_train)/len(X):.3f}')\n",
    "print(f'Val proportion: {len(X_val)/len(X):.3f}')\n",
    "print(f'Test_random proportion: {len(X_test1)/len(X):.3f}')\n",
    "# print(f'Test_window proportion: {len(X_test)/len(X):.3f}')"
   ]
  },
  {
   "cell_type": "code",
   "execution_count": 8,
   "id": "3e61592c-0cb0-41a3-b802-dba9f405bb39",
   "metadata": {
    "tags": []
   },
   "outputs": [
    {
     "data": {
      "image/png": "[encoded data removed]",
      "text/plain": [
       "<Figure size 640x480 with 1 Axes>"
      ]
     },
     "metadata": {},
     "output_type": "display_data"
    }
   ],
   "source": [
    "%matplotlib inline\n",
    "Y.hist(bins=6, range=(0, 5));"
   ]
  },
  {
   "cell_type": "code",
   "execution_count": 8,
   "id": "825a30c2-11c3-4973-8f40-58aec04e909a",
   "metadata": {
    "tags": []
   },
   "outputs": [
    {
     "name": "stdout",
     "output_type": "stream",
     "text": [
      "class_weights: [2.49332493e-08 1.01314731e-07 2.07958921e-07 2.10104117e-07\n",
      " 7.95032004e-07]\n",
      "counts in train: [40107087  9870233  4808642  4759545  1257811]\n"
     ]
    }
   ],
   "source": [
    "_, counts = np.unique(Y_train, return_counts=True)\n",
    "class_weights = 1 / counts\n",
    "print(f'class_weights: {class_weights}')\n",
    "print(f'counts in train: {counts}')"
   ]
  },
  {
   "cell_type": "code",
   "execution_count": 10,
   "id": "ffb3195b-71ef-4019-9730-53563bfa770b",
   "metadata": {
    "tags": []
   },
   "outputs": [],
   "source": [
    "from catboost import CatBoostClassifier\n",
    "model = CatBoostClassifier()"
   ]
  },
  {
   "cell_type": "code",
   "execution_count": 12,
   "id": "c7dde619-b7ec-4b56-b77d-4dd062fe5d8b",
   "metadata": {
    "tags": []
   },
   "outputs": [
    {
     "data": {
      "text/plain": [
       "<catboost.core.CatBoostClassifier at 0x1554fe79b6d0>"
      ]
     },
     "execution_count": 12,
     "metadata": {},
     "output_type": "execute_result"
    }
   ],
   "source": [
    "model.load_model('weights/species-10bands-indices-10000')"
   ]
  },
  {
   "cell_type": "code",
   "execution_count": 13,
   "id": "20bc5dee-4239-410e-975d-17e65920db75",
   "metadata": {
    "tags": []
   },
   "outputs": [
    {
     "data": {
      "text/plain": [
       "array([1, 2, 3, 4, 5])"
      ]
     },
     "execution_count": 13,
     "metadata": {},
     "output_type": "execute_result"
    }
   ],
   "source": [
    "model.classes_"
   ]
  },
  {
   "cell_type": "code",
   "execution_count": 14,
   "id": "978346b9-4236-44a4-ac6c-e53537b8af83",
   "metadata": {
    "tags": []
   },
   "outputs": [],
   "source": [
    "test_list = []\n",
    "ch_list = channels + [target]\n",
    "\n",
    "for path_S2B in path_S2B_list:\n",
    "    dataset = get_dataset(\n",
    "        path_S2B, \n",
    "        channels_list=ch_list, \n",
    "        window=window_k, \n",
    "        visualise=False, \n",
    "        indices=True)\n",
    "\n",
    "    dataset = dataset[dataset[target] > 0]\n",
    "\n",
    "    #### классификация:\n",
    "    # dataset = dataset.query('(`1layer_main_species` == 1) | (`1layer_main_species` == 2) | (`1layer_main_species` == 3) | (`1layer_main_species` == 4) | (`1layer_main_species` == 5) | (`1layer_main_species` == 9)')\n",
    "\n",
    "    test_list.append(dataset)"
   ]
  },
  {
   "cell_type": "code",
   "execution_count": 15,
   "id": "4f2e60bd-5068-4dcd-b2ab-fff87bbfe800",
   "metadata": {
    "tags": []
   },
   "outputs": [],
   "source": [
    "from sklearn.metrics import (\n",
    "    mean_absolute_percentage_error, \n",
    "    mean_absolute_error, \n",
    "    mean_squared_error, \n",
    "    confusion_matrix, \n",
    "    classification_report\n",
    ")\n",
    "import plotly_express as px"
   ]
  },
  {
   "cell_type": "code",
   "execution_count": 27,
   "id": "46ecba22-8ab4-47a9-8879-2822efe0a3c9",
   "metadata": {
    "tags": []
   },
   "outputs": [],
   "source": [
    "names = [path.split('/')[-2] for path in path_S2B_list]\n",
    "\n",
    "for i, name in enumerate(names):\n",
    "    test_dataset = test_list[i]\n",
    "    Y_eval = test_dataset[target]\n",
    "    X_eval = test_dataset.drop(labels=[target, 'x', 'y'], axis=1)\n",
    "    \n",
    "    Y_pred = model.predict(X_eval) # test_dataset['var1']\n",
    "    \n",
    "    transdict = {1: 'Spruce', 2: 'Birch', 3: 'Mix', 4: 'Aspen', 5: 'Pine'}\n",
    "    model_classes = [transdict[class_] for class_ in model.classes_]\n",
    "\n",
    "    fig = px.imshow(confusion_matrix(Y_eval, Y_pred), \n",
    "                    text_auto=True, \n",
    "                    x=model_classes, \n",
    "                    y=model_classes,\n",
    "                    labels=dict(x=\"Predicted\", y=\"Actual\")\n",
    "                   )\n",
    "    wandb.log({name + '_fig': fig})\n",
    "    \n",
    "    \n",
    "    \n",
    "    report = classification_report(Y_eval, Y_pred, output_dict=True, target_names=model_classes)\n",
    "    result_table = wandb.Table(columns=['class', 'precision', 'recall', 'f1-score', 'support'])\n",
    "    for class_name, res_dict in report.items():\n",
    "        if class_name != 'accuracy':\n",
    "            p = res_dict['precision']\n",
    "            r = res_dict['recall']\n",
    "            f1 = res_dict['f1-score']\n",
    "            supp = res_dict['support']\n",
    "            result_table.add_data(class_name, round(p, 3), round(r, 3), round(f1, 3), supp)\n",
    "    acc = report['accuracy']\n",
    "    result_table.add_data('accuracy', round(acc, 3), round(acc, 3), round(acc, 3), round(acc, 3))\n",
    "    run.log({name + \"_table\": result_table})"
   ]
  },
  {
   "cell_type": "code",
   "execution_count": 25,
   "id": "047dba26-a00b-4909-8b1a-cb7717d81c54",
   "metadata": {},
   "outputs": [],
   "source": [
    "            R2   MAPE  RMSE    MAE\n",
    "20180730 : 0.801 0.232 15.24  11.40\n",
    "20180804 : 0.796 0.229 14.88  11.24\n",
    "20180827 : 0.761 0.249 16.56  12.34\n",
    "20180911 : 0.738 0.283 18.41  14.05\n",
    "20190608 : 0.777 0.251 15.81  11.93\n",
    "20190613 : 0.792 0.222 14.73  10.97\n",
    "20200604 : 0.744 0.294 18.71  14.22\n",
    "20200709 : 0.810 0.224 14.56  10.86"
   ]
  },
  {
   "cell_type": "code",
   "execution_count": 42,
   "id": "a9a4a290-949d-412e-9eaa-e99c001f8297",
   "metadata": {
    "tags": []
   },
   "outputs": [],
   "source": [
    "a = [\n",
    "11.40,\n",
    "11.24,\n",
    "12.34,\n",
    "14.05,\n",
    "11.93,\n",
    "10.97,\n",
    "14.22,\n",
    "10.86,\n",
    "]"
   ]
  },
  {
   "cell_type": "code",
   "execution_count": 43,
   "id": "ab602b56-9587-4616-b9b9-80c3c675e4be",
   "metadata": {
    "tags": []
   },
   "outputs": [
    {
     "data": {
      "text/plain": [
       "12.126249999999999"
      ]
     },
     "execution_count": 43,
     "metadata": {},
     "output_type": "execute_result"
    }
   ],
   "source": [
    "np.array(a).mean()"
   ]
  },
  {
   "cell_type": "code",
   "execution_count": null,
   "id": "10760113-cb06-45fc-837a-ddcf1c251950",
   "metadata": {},
   "outputs": [],
   "source": [
    "0.777375  0.248 16.1125 12.126249999999999"
   ]
  }
 ],
 "metadata": {
  "kernelspec": {
   "display_name": "Python 3 (ipykernel)",
   "language": "python",
   "name": "python3"
  },
  "language_info": {
   "codemirror_mode": {
    "name": "ipython",
    "version": 3
   },
   "file_extension": ".py",
   "mimetype": "text/x-python",
   "name": "python",
   "nbconvert_exporter": "python",
   "pygments_lexer": "ipython3",
   "version": "3.10.13"
  }
 },
 "nbformat": 4,
 "nbformat_minor": 5
}
