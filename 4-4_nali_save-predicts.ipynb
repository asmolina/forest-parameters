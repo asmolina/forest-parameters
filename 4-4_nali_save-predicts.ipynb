{
 "cells": [
  {
   "cell_type": "code",
   "execution_count": 1,
   "id": "e75d824a-63a6-418b-8566-75dfe21ac3b6",
   "metadata": {},
   "outputs": [
    {
     "name": "stderr",
     "output_type": "stream",
     "text": [
      "/beegfs/home/alina.smolina/forest-co2/dataset.py:10: TqdmExperimentalWarning: Using `tqdm.autonotebook.tqdm` in notebook mode. Use `tqdm.tqdm` instead to force console mode (e.g. in jupyter console)\n",
      "  from tqdm.autonotebook import tqdm\n"
     ]
    }
   ],
   "source": [
    "from dataset import (\n",
    "    get_dataset, \n",
    "    save_map, \n",
    "    save_pred_map_to_tif,\n",
    "    save_dataset_to_tif,\n",
    ")\n",
    "from metrics import (\n",
    "    get_metrics,\n",
    "    get_classification_metrics,\n",
    "    get_feature_importances, \n",
    "    get_catboost_importances, \n",
    ")\n",
    "from vis import (\n",
    "    plot_image,\n",
    "    plot_mask,\n",
    "    plot_SCL,\n",
    "    draw_maps,\n",
    ")\n",
    "\n",
    "import matplotlib.pyplot as plt\n",
    "from rasterio.windows import Window\n",
    "import pandas as pd\n",
    "import wandb\n",
    "import rasterio\n",
    "import numpy as np\n",
    "import tifffile as tiff\n",
    "import wandb\n",
    "from sklearn.model_selection import train_test_split\n",
    "\n",
    "%load_ext autoreload\n",
    "%autoreload 2   "
   ]
  },
  {
   "cell_type": "code",
   "execution_count": 2,
   "id": "4814386e-5e23-4fb1-ac92-003524c37ca5",
   "metadata": {
    "tags": []
   },
   "outputs": [
    {
     "name": "stdout",
     "output_type": "stream",
     "text": [
      "The autoreload extension is already loaded. To reload it, use:\n",
      "  %reload_ext autoreload\n"
     ]
    }
   ],
   "source": [
    "import rasterio\n",
    "from rasterio.windows import Window\n",
    "from shapely.geometry.polygon import Polygon\n",
    "from shapely import geometry\n",
    "import tifffile as tiff\n",
    "import numpy as np\n",
    "import pandas as pd\n",
    "import os\n",
    "import matplotlib.pyplot as plt\n",
    "from pathlib import Path\n",
    "import uuid\n",
    "\n",
    "from dataset import (\n",
    "    get_dataset, \n",
    "    save_map,\n",
    ")\n",
    "from vis import (\n",
    "    plot_res\n",
    ")\n",
    "\n",
    "%load_ext autoreload\n",
    "%autoreload 2   "
   ]
  },
  {
   "cell_type": "code",
   "execution_count": 3,
   "id": "e68c4d6b-e4ac-4aa5-8d1b-7bab72af4e4f",
   "metadata": {
    "tags": []
   },
   "outputs": [],
   "source": [
    "# path_S2B_list = [ \n",
    "    # './data/tile_UTM38N/20180804/',\n",
    "    # './data/tile_UTM38N/20180827/',\n",
    "    # './data/tile_UTM38N/20180911/',\n",
    "    # './data/tile_UTM38N/20190608/',\n",
    "    # './data/tile_UTM38N/20190613/',\n",
    "    # './data/tile_UTM38N/20200604/',\n",
    "    # './data/tile_UTM38N/20200709/',\n",
    "# ]\n",
    "path_S2B = './data/tile_UTM38N/20180730/'\n",
    "\n",
    "channels = ['B02', 'B03', 'B04', 'B05', 'B06', 'B07', 'B08', 'B8A', 'B11', 'B12']"
   ]
  },
  {
   "cell_type": "code",
   "execution_count": 4,
   "id": "1c77465d-35c3-487a-a2d4-442622cf603b",
   "metadata": {
    "tags": []
   },
   "outputs": [],
   "source": [
    "# Get table with types and ages\n",
    "y0, x0 = 6000, 0\n",
    "window_n = Window.from_slices((y0, y0 + 4000), (x0, x0 + 2700))\n",
    "\n",
    "y0, x0 = 0, 5700\n",
    "window_r = Window.from_slices((y0, y0 + 7000), (x0, x0 + 10000))\n",
    "\n",
    "\n",
    "### Test\n",
    "y0, x0 = 7500, 2700\n",
    "window_k = Window.from_slices((y0, y0 + 1952), (x0, x0 + 1200))"
   ]
  },
  {
   "cell_type": "code",
   "execution_count": 5,
   "id": "ffb3195b-71ef-4019-9730-53563bfa770b",
   "metadata": {
    "tags": []
   },
   "outputs": [
    {
     "data": {
      "text/plain": [
       "<catboost.core.CatBoostClassifier at 0x15554b1eb910>"
      ]
     },
     "execution_count": 5,
     "metadata": {},
     "output_type": "execute_result"
    }
   ],
   "source": [
    "from catboost import CatBoostClassifier, CatBoostRegressor\n",
    "model_species = CatBoostClassifier()\n",
    "model_species.load_model('weights/species-10bands-indices-10000')"
   ]
  },
  {
   "cell_type": "code",
   "execution_count": 6,
   "id": "ffc27fc6-910d-460b-a03b-234edd469869",
   "metadata": {
    "tags": []
   },
   "outputs": [
    {
     "data": {
      "text/plain": [
       "<catboost.core.CatBoostRegressor at 0x1554f74916c0>"
      ]
     },
     "execution_count": 6,
     "metadata": {},
     "output_type": "execute_result"
    }
   ],
   "source": [
    "model_age = CatBoostRegressor()\n",
    "model_age.load_model('weights/age-10bands-indices')"
   ]
  },
  {
   "cell_type": "code",
   "execution_count": 7,
   "id": "d115e494-d680-4b9a-b9cd-c7718c1a9056",
   "metadata": {
    "tags": []
   },
   "outputs": [
    {
     "data": {
      "text/plain": [
       "<catboost.core.CatBoostRegressor at 0x1554f7491720>"
      ]
     },
     "execution_count": 7,
     "metadata": {},
     "output_type": "execute_result"
    }
   ],
   "source": [
    "model_height = CatBoostRegressor()\n",
    "model_height.load_model('weights/height-10bands-indices')"
   ]
  },
  {
   "cell_type": "code",
   "execution_count": 8,
   "id": "3662ac55-3105-4f13-bfb4-82f06a3aa235",
   "metadata": {
    "tags": []
   },
   "outputs": [
    {
     "data": {
      "text/plain": [
       "<catboost.core.CatBoostRegressor at 0x1554f7491c30>"
      ]
     },
     "execution_count": 8,
     "metadata": {},
     "output_type": "execute_result"
    }
   ],
   "source": [
    "model_area = CatBoostRegressor()\n",
    "model_area.load_model('weights/basal-area-10bands-indices')"
   ]
  },
  {
   "cell_type": "code",
   "execution_count": 9,
   "id": "ae19ce90-2b49-400c-b177-18430350ada9",
   "metadata": {},
   "outputs": [],
   "source": [
    "def predict_volume(X):\n",
    "    basal_area = model_area.predict(X)\n",
    "    basal_area = np.where(basal_area > 0, basal_area, 0)\n",
    "    \n",
    "    height = model_height.predict(X)\n",
    "    height = np.where(height > 0, height, 0)\n",
    "    \n",
    "    volume = height * basal_area\n",
    "    volume = np.where((height > 0) & (basal_area > 0), volume, 0)\n",
    "    \n",
    "    return volume"
   ]
  },
  {
   "cell_type": "code",
   "execution_count": null,
   "id": "cf0a3820-c7ae-407c-8d54-a54707eceb41",
   "metadata": {},
   "outputs": [],
   "source": []
  },
  {
   "cell_type": "code",
   "execution_count": 10,
   "id": "fa1a848e-3b42-471b-a991-b9f7d79bbaa4",
   "metadata": {},
   "outputs": [],
   "source": [
    "def predict_stock(X):\n",
    "    age = model_age.predict(X)\n",
    "    age = np.where(age > 0, age, 0)\n",
    "    \n",
    "    species = model_species.predict(X)\n",
    "    \n",
    "    volume = predict_volume(X)\n",
    "    \n",
    "    species_age = {\n",
    "    1: [[0, 40], [40, 100], [100, 120], [120, 1000]],\n",
    "    2: [[0, 20], [20, 40], [40, 50], [50, 1000]],\n",
    "    3: [[0, 20], [20, 40], [40, 50], [50, 1000]],\n",
    "    4: [[0, 20], [20, 30], [30, 40], [40, 1000]],\n",
    "    5: [[0, 40], [40, 100], [100, 120], [120, 1000]],\n",
    "              }\n",
    "\n",
    "    species_coeff = {\n",
    "        1: [0.409, 0.426, 0.431, 0.436],\n",
    "        2: [0.528, 0.534, 0.533, 0.528],\n",
    "        3: [0.45, 0.46, 0.46, 0.46], #3: [0.4, 0.4, 0.4, 0.4],\n",
    "        4: [0.403, 0.426, 0.431, 0.444],\n",
    "        5: [0.452, 0.454, 0.454, 0.449],\n",
    "                    }\n",
    "\n",
    "    C_content = {\n",
    "        1: 0.5,\n",
    "        2: 0.47,\n",
    "        3: 0.48,\n",
    "        4: 0.47, \n",
    "        5: 0.5\n",
    "    }\n",
    "    \n",
    "    BCEF_species = {\n",
    "    1: np.zeros(volume.shape),\n",
    "    2: np.zeros(volume.shape), \n",
    "    3: np.zeros(volume.shape),\n",
    "    4: np.zeros(volume.shape),\n",
    "    5: np.zeros(volume.shape),\n",
    "               }\n",
    "\n",
    "    tmp_shape = np.ones(volume.shape)\n",
    "\n",
    "    for sp in BCEF_species.keys():\n",
    "        for age_ind in range(4):\n",
    "            specimen_mask = np.where(species == sp, 1, 0) \n",
    "            age_condition = (species_age[sp][age_ind][0] * tmp_shape < age) & (age <= species_age[sp][age_ind][1] * tmp_shape)\n",
    "            BCEF_species[sp] += np.where(age_condition, np.squeeze(specimen_mask * species_coeff[sp][age_ind]), 0)\n",
    "        BCEF_species[sp] *= C_content[sp]\n",
    "\n",
    "    carbon_stock = volume * sum(BCEF_species.values())\n",
    "    carbon_stock = np.where(carbon_stock > 0, carbon_stock, 0)\n",
    "    \n",
    "    return carbon_stock"
   ]
  },
  {
   "cell_type": "code",
   "execution_count": null,
   "id": "1aceae33-a12e-4dc6-9895-baa87bf03763",
   "metadata": {},
   "outputs": [],
   "source": []
  },
  {
   "cell_type": "markdown",
   "id": "e70ced69-525b-45ed-a7f5-d3277a80069f",
   "metadata": {},
   "source": [
    "## Сохранить предсказания в tif"
   ]
  },
  {
   "cell_type": "code",
   "execution_count": 11,
   "id": "0b99bd0c-9c57-4ece-81ea-50522e3f61e6",
   "metadata": {},
   "outputs": [],
   "source": [
    "dataset = get_dataset(\n",
    "        path_S2B, \n",
    "        channels_list=channels, \n",
    "        window=window_k, \n",
    "        visualise=False, \n",
    "        indices=True\n",
    ")\n",
    "\n",
    "X = dataset.drop(labels=['x', 'y'], axis=1)"
   ]
  },
  {
   "cell_type": "markdown",
   "id": "3955b818-9442-4887-aeb5-95d72714e57a",
   "metadata": {},
   "source": [
    "### Возраст"
   ]
  },
  {
   "cell_type": "code",
   "execution_count": 20,
   "id": "76d9b104-30b0-46b8-ab15-492aac551691",
   "metadata": {},
   "outputs": [
    {
     "name": "stdout",
     "output_type": "stream",
     "text": [
      "Saved to preds/preds_age-10bands-indices.tif\n",
      "Out dtype: float32\n"
     ]
    }
   ],
   "source": [
    "preds = model_age.predict(X)\n",
    "save_map(\n",
    "    preds, \n",
    "    dataset[['x', 'y']], \n",
    "    window=window_k, \n",
    "    no_data_value=-1, \n",
    "    clip=(0, None), \n",
    "    path_S2B=path_S2B, \n",
    "    out_name='preds_age-10bands-indices.tif',\n",
    "    out_path = './preds/'\n",
    ")"
   ]
  },
  {
   "cell_type": "markdown",
   "id": "3c04211e-61b0-4c25-a5ad-6cf9f950149a",
   "metadata": {},
   "source": [
    "### Высота"
   ]
  },
  {
   "cell_type": "code",
   "execution_count": 22,
   "id": "1b08c45b-51c5-4ec2-8e9f-ae9c2576c5f3",
   "metadata": {
    "tags": []
   },
   "outputs": [
    {
     "name": "stdout",
     "output_type": "stream",
     "text": [
      "Saved to preds/preds_height-10bands-indices.tif\n",
      "Out dtype: float32\n"
     ]
    }
   ],
   "source": [
    "preds = model_height.predict(X)\n",
    "save_map(\n",
    "    preds, \n",
    "    dataset, \n",
    "    window=window_k, \n",
    "    no_data_value=-1, \n",
    "    clip=(0, None), \n",
    "    path_S2B=path_S2B, \n",
    "    out_name='preds_height-10bands-indices.tif',\n",
    "    out_path = './preds/'\n",
    "        )"
   ]
  },
  {
   "cell_type": "markdown",
   "id": "85a1097d-4f2a-426b-9166-b0021d80a661",
   "metadata": {},
   "source": [
    "### Basal area"
   ]
  },
  {
   "cell_type": "code",
   "execution_count": 23,
   "id": "c19fd6ea-8a7a-43a2-b3b4-6d6ce0a4e7c4",
   "metadata": {
    "tags": []
   },
   "outputs": [
    {
     "name": "stdout",
     "output_type": "stream",
     "text": [
      "Saved to preds/preds_basal-area-10bands-indices.tif\n",
      "Out dtype: float32\n"
     ]
    }
   ],
   "source": [
    "preds = model_area.predict(X)\n",
    "save_map(\n",
    "    preds, \n",
    "    dataset, \n",
    "    window=window_k, \n",
    "    no_data_value=-1, \n",
    "    clip=(0, None), \n",
    "    path_S2B=path_S2B, \n",
    "    out_name='preds_basal-area-10bands-indices.tif',\n",
    "    out_path = './preds/',\n",
    "        )"
   ]
  },
  {
   "cell_type": "markdown",
   "id": "0c370f3d-2955-4c50-a829-c33cfb9cd6b5",
   "metadata": {},
   "source": [
    "### Volume "
   ]
  },
  {
   "cell_type": "code",
   "execution_count": 24,
   "id": "b5042661-4645-432b-b943-d23a54a74a10",
   "metadata": {
    "tags": []
   },
   "outputs": [
    {
     "name": "stdout",
     "output_type": "stream",
     "text": [
      "Saved to preds/preds_volume.tif\n",
      "Out dtype: float32\n"
     ]
    }
   ],
   "source": [
    "preds = predict_volume(X)\n",
    "save_map(\n",
    "    preds, \n",
    "    dataset, \n",
    "    window=window_k, \n",
    "    no_data_value=-1, \n",
    "    clip=(0, None), \n",
    "    path_S2B=path_S2B, \n",
    "    out_name='preds_volume.tif',\n",
    "    out_path = './preds/'\n",
    "        )"
   ]
  },
  {
   "cell_type": "markdown",
   "id": "9a21d546-f254-4082-98a0-98a90096f8b9",
   "metadata": {},
   "source": [
    "### Carbon stock"
   ]
  },
  {
   "cell_type": "code",
   "execution_count": 12,
   "id": "72faaf92-3d13-442f-b223-14da7a1d2f4a",
   "metadata": {
    "tags": []
   },
   "outputs": [
    {
     "name": "stderr",
     "output_type": "stream",
     "text": [
      "TBB Warning: The number of workers is currently limited to 15. The request for 127 workers is ignored. Further requests for more workers will be silently ignored until the limit changes.\n",
      "\n"
     ]
    },
    {
     "name": "stdout",
     "output_type": "stream",
     "text": [
      "Saved to preds/preds_stock.tif\n",
      "Out dtype: float32\n"
     ]
    }
   ],
   "source": [
    "preds = predict_stock(X)\n",
    "save_map(\n",
    "    preds, \n",
    "    dataset, \n",
    "    window=window_k, \n",
    "    no_data_value=-1, \n",
    "    clip=(0, None), \n",
    "    path_S2B=path_S2B, \n",
    "    out_name='preds_stock.tif',\n",
    "    out_path = './preds/'\n",
    "        )"
   ]
  },
  {
   "cell_type": "markdown",
   "id": "5635cf76-f865-4f13-b985-e0e87accd143",
   "metadata": {},
   "source": [
    "### Species"
   ]
  },
  {
   "cell_type": "code",
   "execution_count": 26,
   "id": "4562130e-9c63-44ff-b55a-cc877726deed",
   "metadata": {
    "tags": []
   },
   "outputs": [
    {
     "name": "stdout",
     "output_type": "stream",
     "text": [
      "Saved to preds/preds_species-10bands-indices-10000.tif\n",
      "Out dtype: float32\n"
     ]
    }
   ],
   "source": [
    "preds = model_species.predict(X)\n",
    "save_map(preds, \n",
    "         dataset, \n",
    "         window=window_k, \n",
    "         no_data_value=-1, \n",
    "         clip=(None, 10), \n",
    "         path_S2B=path_S2B, \n",
    "         out_name='preds_species-10bands-indices-10000.tif',\n",
    "         out_path = './preds/'\n",
    "        )"
   ]
  },
  {
   "cell_type": "code",
   "execution_count": 27,
   "id": "6a46824c-2a00-4ba2-b3fc-0fd5604806b8",
   "metadata": {},
   "outputs": [
    {
     "name": "stdout",
     "output_type": "stream",
     "text": [
      "total 1.4M\n",
      "drwxrwxr-x  2 alina.smolina alina.smolina    6 Dec  8 16:33 .\n",
      "drwxrwxr-x 14 alina.smolina alina.smolina   33 Dec  8 16:32 ..\n",
      "-rw-rw-r--  1 alina.smolina alina.smolina 9.0M Dec  8 16:31 preds_age-10bands-indices_DEL.tif\n",
      "-rw-rw-r--  1 alina.smolina alina.smolina 9.0M Dec  8 16:32 preds_age-10bands-indices.tif\n",
      "-rw-rw-r--  1 alina.smolina alina.smolina 9.0M Dec  8 16:32 preds_basal-area-10bands-indices.tif\n",
      "-rw-rw-r--  1 alina.smolina alina.smolina 9.0M Dec  8 16:32 preds_height-10bands-indices.tif\n",
      "-rw-rw-r--  1 alina.smolina alina.smolina 9.0M Dec  8 16:33 preds_species-10bands-indices-10000.tif\n",
      "-rw-rw-r--  1 alina.smolina alina.smolina 9.0M Dec  8 16:33 preds_stock.tif\n",
      "-rw-rw-r--  1 alina.smolina alina.smolina 9.0M Dec  8 16:32 preds_volume.tif\n"
     ]
    }
   ],
   "source": [
    "!ls -lah './preds/'"
   ]
  }
 ],
 "metadata": {
  "kernelspec": {
   "display_name": "Python 3 (ipykernel)",
   "language": "python",
   "name": "python3"
  },
  "language_info": {
   "codemirror_mode": {
    "name": "ipython",
    "version": 3
   },
   "file_extension": ".py",
   "mimetype": "text/x-python",
   "name": "python",
   "nbconvert_exporter": "python",
   "pygments_lexer": "ipython3",
   "version": "3.10.13"
  }
 },
 "nbformat": 4,
 "nbformat_minor": 5
}
