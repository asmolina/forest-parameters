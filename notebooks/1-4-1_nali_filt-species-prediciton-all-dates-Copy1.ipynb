{
 "cells": [
  {
   "cell_type": "code",
   "execution_count": 1,
   "id": "e75d824a-63a6-418b-8566-75dfe21ac3b6",
   "metadata": {},
   "outputs": [
    {
     "name": "stderr",
     "output_type": "stream",
     "text": [
      "/beegfs/home/alina.smolina/forest-co2/dataset.py:10: TqdmExperimentalWarning: Using `tqdm.autonotebook.tqdm` in notebook mode. Use `tqdm.tqdm` instead to force console mode (e.g. in jupyter console)\n",
      "  from tqdm.autonotebook import tqdm\n"
     ]
    }
   ],
   "source": [
    "from dataset import (\n",
    "    get_dataset_v2, \n",
    "    save_map, \n",
    "    save_pred_map_to_tif\n",
    ")\n",
    "from metrics import (\n",
    "    get_metrics,\n",
    "    get_classification_metrics,\n",
    "    get_feature_importances, \n",
    "    get_catboost_importances, \n",
    ")\n",
    "from vis import (\n",
    "    plot_image,\n",
    "    plot_mask,\n",
    "    plot_SCL,\n",
    "    draw_maps,\n",
    ")\n",
    "\n",
    "import matplotlib.pyplot as plt\n",
    "from rasterio.windows import Window\n",
    "import pandas as pd\n",
    "import wandb\n",
    "import rasterio\n",
    "import numpy as np\n",
    "import tifffile as tiff\n",
    "import wandb\n",
    "from sklearn.model_selection import train_test_split\n",
    "\n",
    "%load_ext autoreload\n",
    "%autoreload 2   "
   ]
  },
  {
   "cell_type": "code",
   "execution_count": 2,
   "id": "e68c4d6b-e4ac-4aa5-8d1b-7bab72af4e4f",
   "metadata": {
    "tags": []
   },
   "outputs": [],
   "source": [
    "path_S2B_list = [\n",
    "    './data/tile_UTM38N/20180730/',\n",
    "    './data/tile_UTM38N/20180804/',\n",
    "    './data/tile_UTM38N/20180827/',\n",
    "    './data/tile_UTM38N/20180911/',\n",
    "    './data/tile_UTM38N/20190608/',\n",
    "    './data/tile_UTM38N/20190613/',\n",
    "    './data/tile_UTM38N/20200604/',\n",
    "    './data/tile_UTM38N/20200709/',\n",
    "]\n",
    "\n",
    "channels = ['B02', 'B03', 'B04', 'B05', 'B06', 'B07', 'B08', 'B8A', 'B11', 'B12']\n",
    "\n",
    "# target = 'type'\n",
    "\n",
    "target = 'filt_prevailing_species'"
   ]
  },
  {
   "cell_type": "code",
   "execution_count": 3,
   "id": "1c77465d-35c3-487a-a2d4-442622cf603b",
   "metadata": {
    "tags": []
   },
   "outputs": [],
   "source": [
    "# Get table with types and ages\n",
    "y0, x0 = 6000, 0\n",
    "window_n = Window.from_slices((y0, y0 + 4000), (x0, x0 + 2700))\n",
    "\n",
    "y0, x0 = 0, 5700\n",
    "window_r = Window.from_slices((y0, y0 + 7000), (x0, x0 + 10000))\n",
    "\n",
    "\n",
    "### Test\n",
    "y0, x0 = 7500, 2700\n",
    "window_k = Window.from_slices((y0, y0 + 3000), (x0, x0 + 1200))"
   ]
  },
  {
   "cell_type": "code",
   "execution_count": null,
   "id": "daa4f6ee-f4c2-4ceb-a203-96d1e4a145d9",
   "metadata": {},
   "outputs": [],
   "source": []
  },
  {
   "cell_type": "code",
   "execution_count": 4,
   "id": "ae27a540-eddd-46f8-ba57-155315fb83b5",
   "metadata": {
    "tags": []
   },
   "outputs": [],
   "source": [
    "## Stacking of several dates\n",
    "def stack_several_dates_dataset(path_S2B_list, \n",
    "                              target, \n",
    "                              channels_list=['B02'], \n",
    "                              window=None, \n",
    "                              indices=False):\n",
    "    dataset_list = []\n",
    "    ch_list = channels_list + [target]\n",
    "\n",
    "    for path_S2B in path_S2B_list:\n",
    "        dataset = get_dataset_v2(\n",
    "            path_S2B, \n",
    "            channels_list=ch_list, \n",
    "            window=window, \n",
    "            visualise=False, \n",
    "            indices=indices,\n",
    "            apply_SCL=True)\n",
    "        \n",
    "        dataset = dataset[dataset[target] > 0]\n",
    "        \n",
    "        #### классификация:\n",
    "        # dataset = dataset.query('(`type` == 1) | (`type` == 2) | (`type` == 5)')\n",
    "\n",
    "        # dataset = dataset[dataset[target] != 3]\n",
    "        dataset_list.append(dataset)\n",
    "\n",
    "    dataset = pd.concat(dataset_list)\n",
    "        \n",
    "    return dataset"
   ]
  },
  {
   "cell_type": "code",
   "execution_count": 5,
   "id": "a589e454-03be-404d-aa22-f80f2f1d96a1",
   "metadata": {
    "tags": []
   },
   "outputs": [],
   "source": [
    "dataset = pd.concat([\n",
    "    stack_several_dates_dataset(path_S2B_list, target, channels_list=channels, window=window_n, indices=True),\n",
    "    stack_several_dates_dataset(path_S2B_list, target, channels_list=channels, window=window_r, indices=True),\n",
    "])\n",
    "\n",
    "Y = dataset[target]\n",
    "X = dataset.drop(labels=[target, 'x', 'y'], axis=1)"
   ]
  },
  {
   "cell_type": "code",
   "execution_count": 6,
   "id": "cf54b61f-8c4a-489b-adf8-e13737fd7299",
   "metadata": {
    "tags": []
   },
   "outputs": [
    {
     "data": {
      "text/plain": [
       "array([1, 2, 3, 4, 5], dtype=int16)"
      ]
     },
     "execution_count": 6,
     "metadata": {},
     "output_type": "execute_result"
    }
   ],
   "source": [
    "np.unique(Y)"
   ]
  },
  {
   "cell_type": "code",
   "execution_count": 7,
   "id": "0fc8ef25-8688-4765-aa83-53c5e106c821",
   "metadata": {
    "tags": []
   },
   "outputs": [
    {
     "name": "stdout",
     "output_type": "stream",
     "text": [
      "55839485 9854027 16423378\n",
      "Train proportion: 0.680\n",
      "Val proportion: 0.120\n",
      "Test_random proportion: 0.200\n"
     ]
    }
   ],
   "source": [
    "X_train, X_test1, Y_train, Y_test1 = train_test_split(X, Y, test_size=0.2, random_state=0)\n",
    "X_train, X_val, Y_train, Y_val = train_test_split(X_train, Y_train, test_size=0.15, random_state=0)\n",
    "\n",
    "print(len(X_train), len(X_val), len(X_test1))\n",
    "print(f'Train proportion: {len(X_train)/len(X):.3f}')\n",
    "print(f'Val proportion: {len(X_val)/len(X):.3f}')\n",
    "print(f'Test_random proportion: {len(X_test1)/len(X):.3f}')\n",
    "# print(f'Test_window proportion: {len(X_test)/len(X):.3f}')"
   ]
  },
  {
   "cell_type": "code",
   "execution_count": 8,
   "id": "3e61592c-0cb0-41a3-b802-dba9f405bb39",
   "metadata": {
    "tags": []
   },
   "outputs": [
    {
     "data": {
      "image/png": "[encoded data removed]",
      "text/plain": [
       "<Figure size 640x480 with 1 Axes>"
      ]
     },
     "metadata": {},
     "output_type": "display_data"
    }
   ],
   "source": [
    "%matplotlib inline\n",
    "Y.hist(bins=6, range=(0, 5));"
   ]
  },
  {
   "cell_type": "code",
   "execution_count": 9,
   "id": "4214fac4-c63d-442e-b61d-4490aa954493",
   "metadata": {
    "tags": []
   },
   "outputs": [],
   "source": [
    "import os\n",
    "import wandb\n",
    "\n",
    "os.environ[\"WANDB__SERVICE_WAIT\"] = \"300\""
   ]
  },
  {
   "cell_type": "code",
   "execution_count": 10,
   "id": "e3cabad4-d39c-4c30-9ee7-813147ed8bc3",
   "metadata": {
    "tags": []
   },
   "outputs": [
    {
     "name": "stderr",
     "output_type": "stream",
     "text": [
      "\u001b[34m\u001b[1mwandb\u001b[0m: Currently logged in as: \u001b[33mnali\u001b[0m. Use \u001b[1m`wandb login --relogin`\u001b[0m to force relogin\n"
     ]
    },
    {
     "data": {
      "text/html": [
       "wandb version 0.16.1 is available!  To upgrade, please run:\n",
       " $ pip install wandb --upgrade"
      ],
      "text/plain": [
       "<IPython.core.display.HTML object>"
      ]
     },
     "metadata": {},
     "output_type": "display_data"
    },
    {
     "data": {
      "text/html": [
       "Tracking run with wandb version 0.16.0"
      ],
      "text/plain": [
       "<IPython.core.display.HTML object>"
      ]
     },
     "metadata": {},
     "output_type": "display_data"
    },
    {
     "data": {
      "text/html": [
       "Run data is saved locally in <code>/beegfs/home/alina.smolina/forest-co2/wandb/run-20231220_235644-fxezusw4</code>"
      ],
      "text/plain": [
       "<IPython.core.display.HTML object>"
      ]
     },
     "metadata": {},
     "output_type": "display_data"
    },
    {
     "data": {
      "text/html": [
       "Syncing run <strong><a href='https://wandb.ai/nali/forest-co2/runs/fxezusw4' target=\"_blank\">lemon-shape-15</a></strong> to <a href='https://wandb.ai/nali/forest-co2' target=\"_blank\">Weights & Biases</a> (<a href='https://wandb.me/run' target=\"_blank\">docs</a>)<br/>"
      ],
      "text/plain": [
       "<IPython.core.display.HTML object>"
      ]
     },
     "metadata": {},
     "output_type": "display_data"
    },
    {
     "data": {
      "text/html": [
       " View project at <a href='https://wandb.ai/nali/forest-co2' target=\"_blank\">https://wandb.ai/nali/forest-co2</a>"
      ],
      "text/plain": [
       "<IPython.core.display.HTML object>"
      ]
     },
     "metadata": {},
     "output_type": "display_data"
    },
    {
     "data": {
      "text/html": [
       " View run at <a href='https://wandb.ai/nali/forest-co2/runs/fxezusw4' target=\"_blank\">https://wandb.ai/nali/forest-co2/runs/fxezusw4</a>"
      ],
      "text/plain": [
       "<IPython.core.display.HTML object>"
      ]
     },
     "metadata": {},
     "output_type": "display_data"
    }
   ],
   "source": [
    "run = wandb.init(\n",
    "  project=\"forest-co2\",\n",
    "  notes=f\"Channels {channels}. Date: {path_S2B_list}. SCL=4\",\n",
    "  tags=[target]\n",
    ")"
   ]
  },
  {
   "cell_type": "code",
   "execution_count": 11,
   "id": "825a30c2-11c3-4973-8f40-58aec04e909a",
   "metadata": {
    "tags": []
   },
   "outputs": [
    {
     "name": "stdout",
     "output_type": "stream",
     "text": [
      "class_weights: [2.69226494e-08 1.01717365e-07 2.28160167e-07 9.74431882e-07\n",
      " 2.89372784e-07]\n",
      "counts in train: [37143447  9831163  4382886  1026239  3455750]\n"
     ]
    }
   ],
   "source": [
    "_, counts = np.unique(Y_train, return_counts=True)\n",
    "class_weights = 1 / counts\n",
    "print(f'class_weights: {class_weights}')\n",
    "print(f'counts in train: {counts}')"
   ]
  },
  {
   "cell_type": "code",
   "execution_count": null,
   "id": "6de17ae1-705e-4c0f-aaa8-fefb5f28670e",
   "metadata": {
    "tags": []
   },
   "outputs": [
    {
     "name": "stderr",
     "output_type": "stream",
     "text": [
      "TBB Warning: The number of workers is currently limited to 15. The request for 127 workers is ignored. Further requests for more workers will be silently ignored until the limit changes.\n",
      "\n"
     ]
    },
    {
     "data": {
      "application/vnd.jupyter.widget-view+json": {
       "model_id": "93965433e9b54c94b7e30789ebef8c6c",
       "version_major": 2,
       "version_minor": 0
      },
      "text/plain": [
       "MetricVisualizer(layout=Layout(align_self='stretch', height='500px'))"
      ]
     },
     "metadata": {},
     "output_type": "display_data"
    },
    {
     "name": "stdout",
     "output_type": "stream",
     "text": [
      "0:\tlearn: 0.4124496\ttest: 0.4122316\tbest: 0.4122316 (0)\ttotal: 279ms\tremaining: 7h 44m 56s\n",
      "10000:\tlearn: 0.5471242\ttest: 0.5471888\tbest: 0.5471888 (10000)\ttotal: 19m 29s\tremaining: 2h 55m 27s\n",
      "20000:\tlearn: 0.5580472\ttest: 0.5579660\tbest: 0.5579660 (20000)\ttotal: 38m 18s\tremaining: 2h 33m 14s\n",
      "30000:\tlearn: 0.5632578\ttest: 0.5631046\tbest: 0.5631046 (30000)\ttotal: 56m 50s\tremaining: 2h 12m 37s\n"
     ]
    }
   ],
   "source": [
    "from catboost import CatBoostClassifier, Pool\n",
    "\n",
    "train_data = Pool(data=X_train, \n",
    "                  label=Y_train,\n",
    "                 )\n",
    "\n",
    "val_data = Pool(data=X_val, \n",
    "                label=Y_val,\n",
    "               )\n",
    "\n",
    "params = {\n",
    "    'learning_rate': 0.35, \n",
    "    'class_weights': class_weights,\n",
    "    'max_depth': 6,\n",
    "    'loss_function': 'MultiClass',  \n",
    "    'custom_metric': ['Precision', 'Recall', 'Accuracy'],\n",
    "    'eval_metric': 'TotalF1:average=Macro', \n",
    "    'metric_period': 100,\n",
    "    'iterations': 100000,\n",
    "    'verbose': 10000, \n",
    "    'task_type': \"GPU\",\n",
    "    'use_best_model': True,\n",
    "    }\n",
    "\n",
    "model = CatBoostClassifier(**params)\n",
    "\n",
    "model.fit(\n",
    "    train_data, \n",
    "    eval_set=val_data, \n",
    "    plot=True,\n",
    "    # plot_file=f'./plots/train_{run.name}.json', \n",
    "    # save_snapshot=True,\n",
    "    # snapshot_interval=600, \n",
    ") "
   ]
  },
  {
   "cell_type": "code",
   "execution_count": null,
   "id": "9791e492-450d-4549-9593-04b5abc3c825",
   "metadata": {
    "tags": []
   },
   "outputs": [],
   "source": [
    "model.save_model(f\"./weights/exp={run.name}_id={run.id}\")"
   ]
  },
  {
   "cell_type": "code",
   "execution_count": null,
   "id": "80643db4-49f3-43df-aac0-037788763162",
   "metadata": {
    "tags": []
   },
   "outputs": [],
   "source": [
    "model.save_model(\n",
    "    f\"./weights/exp={run.name}_id={run.id}.json\",\n",
    "    format=\"json\",\n",
    "    pool=train_data\n",
    ")"
   ]
  },
  {
   "cell_type": "code",
   "execution_count": null,
   "id": "9d860201-f7a9-45c2-af48-0710b7b0a19d",
   "metadata": {},
   "outputs": [],
   "source": []
  },
  {
   "cell_type": "code",
   "execution_count": null,
   "id": "e0a4b231-f9d4-48b4-a216-f1e97b70f096",
   "metadata": {},
   "outputs": [],
   "source": []
  },
  {
   "cell_type": "code",
   "execution_count": null,
   "id": "2f38ba06-f812-4735-841f-5b8477cb0c17",
   "metadata": {
    "tags": []
   },
   "outputs": [],
   "source": [
    "wandb.sklearn.plot_feature_importances(model, model.feature_names_)"
   ]
  },
  {
   "cell_type": "code",
   "execution_count": null,
   "id": "20bc5dee-4239-410e-975d-17e65920db75",
   "metadata": {
    "tags": []
   },
   "outputs": [],
   "source": [
    "model.classes_"
   ]
  },
  {
   "cell_type": "code",
   "execution_count": null,
   "id": "978346b9-4236-44a4-ac6c-e53537b8af83",
   "metadata": {
    "tags": []
   },
   "outputs": [],
   "source": [
    "test_list = []\n",
    "ch_list = channels + [target]\n",
    "\n",
    "for path_S2B in path_S2B_list:\n",
    "    dataset = get_dataset_v2(\n",
    "        path_S2B, \n",
    "        channels_list=ch_list, \n",
    "        window=window_k, \n",
    "        visualise=False, \n",
    "        indices=True)\n",
    "\n",
    "    dataset = dataset[dataset[target] > 0]\n",
    "\n",
    "    #### классификация:\n",
    "    # dataset = dataset.query('(`1layer_main_species` == 1) | (`1layer_main_species` == 2) | (`1layer_main_species` == 3) | (`1layer_main_species` == 4) | (`1layer_main_species` == 5) | (`1layer_main_species` == 9)')\n",
    "    # dataset = dataset.query('(`type` == 1) | (`type` == 2) | (`type` == 5)')\n",
    "\n",
    "    \n",
    "    test_list.append(dataset)"
   ]
  },
  {
   "cell_type": "code",
   "execution_count": null,
   "id": "4f2e60bd-5068-4dcd-b2ab-fff87bbfe800",
   "metadata": {
    "tags": []
   },
   "outputs": [],
   "source": [
    "from sklearn.metrics import (\n",
    "    mean_absolute_percentage_error, \n",
    "    mean_absolute_error, \n",
    "    mean_squared_error, \n",
    "    confusion_matrix, \n",
    "    classification_report\n",
    ")\n",
    "import plotly_express as px"
   ]
  },
  {
   "cell_type": "code",
   "execution_count": null,
   "id": "46ecba22-8ab4-47a9-8879-2822efe0a3c9",
   "metadata": {
    "tags": []
   },
   "outputs": [],
   "source": [
    "names = [path.split('/')[-2] for path in path_S2B_list]\n",
    "\n",
    "for i, name in enumerate(names):\n",
    "    test_dataset = test_list[i]\n",
    "    Y_eval = test_dataset[target]\n",
    "    X_eval = test_dataset.drop(labels=[target, 'x', 'y'], axis=1)\n",
    "    \n",
    "    Y_pred = model.predict(X_eval) # test_dataset['var1']\n",
    "    \n",
    "    transdict = {1: 'Spruce', 2: 'Birch', 3: 'Mix', 4: 'Aspen', 5: 'Pine'}\n",
    "    model_classes = [transdict[class_] for class_ in model.classes_]\n",
    "\n",
    "    fig = px.imshow(confusion_matrix(Y_eval, Y_pred), \n",
    "                    text_auto=True, \n",
    "                    x=model_classes, \n",
    "                    y=model_classes,\n",
    "                    labels=dict(x=\"Predicted\", y=\"Actual\")\n",
    "                   )\n",
    "    wandb.log({name + '_fig': fig})\n",
    "    \n",
    "    \n",
    "    \n",
    "    report = classification_report(Y_eval, Y_pred, output_dict=True, target_names=model_classes)\n",
    "    result_table = wandb.Table(columns=['class', 'precision', 'recall', 'f1-score', 'support'])\n",
    "    for class_name, res_dict in report.items():\n",
    "        if class_name != 'accuracy':\n",
    "            p = res_dict['precision']\n",
    "            r = res_dict['recall']\n",
    "            f1 = res_dict['f1-score']\n",
    "            supp = res_dict['support']\n",
    "            result_table.add_data(class_name, round(p, 3), round(r, 3), round(f1, 3), supp)\n",
    "    acc = report['accuracy']\n",
    "    result_table.add_data('accuracy', round(acc, 3), round(acc, 3), round(acc, 3), round(acc, 3))\n",
    "    run.log({name + \"_table\": result_table})"
   ]
  },
  {
   "cell_type": "code",
   "execution_count": null,
   "id": "047dba26-a00b-4909-8b1a-cb7717d81c54",
   "metadata": {},
   "outputs": [],
   "source": []
  }
 ],
 "metadata": {
  "kernelspec": {
   "display_name": "Python 3 (ipykernel)",
   "language": "python",
   "name": "python3"
  },
  "language_info": {
   "codemirror_mode": {
    "name": "ipython",
    "version": 3
   },
   "file_extension": ".py",
   "mimetype": "text/x-python",
   "name": "python",
   "nbconvert_exporter": "python",
   "pygments_lexer": "ipython3",
   "version": "3.10.13"
  }
 },
 "nbformat": 4,
 "nbformat_minor": 5
}
