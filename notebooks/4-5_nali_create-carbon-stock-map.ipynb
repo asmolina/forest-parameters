{
 "cells": [
  {
   "cell_type": "code",
   "execution_count": 1,
   "id": "64d855e3-35e4-4a01-a1c5-587b8cb8bafd",
   "metadata": {},
   "outputs": [
    {
     "name": "stderr",
     "output_type": "stream",
     "text": [
      "/beegfs/home/alina.smolina/forest-co2/dataset.py:10: TqdmExperimentalWarning: Using `tqdm.autonotebook.tqdm` in notebook mode. Use `tqdm.tqdm` instead to force console mode (e.g. in jupyter console)\n",
      "  from tqdm.autonotebook import tqdm\n"
     ]
    }
   ],
   "source": [
    "from dataset import (\n",
    "    get_dataset, \n",
    "    save_map, \n",
    "    save_pred_map_to_tif,\n",
    "    save_dataset_to_tif,\n",
    ")\n",
    "from metrics import (\n",
    "    get_metrics,\n",
    "    get_classification_metrics,\n",
    "    get_feature_importances, \n",
    "    get_catboost_importances, \n",
    ")\n",
    "from vis import (\n",
    "    plot_image,\n",
    "    plot_mask,\n",
    "    plot_SCL,\n",
    "    draw_maps,\n",
    ")\n",
    "\n",
    "import matplotlib.pyplot as plt\n",
    "from rasterio.windows import Window\n",
    "import pandas as pd\n",
    "import wandb\n",
    "import rasterio\n",
    "import numpy as np\n",
    "import tifffile as tiff\n",
    "import wandb\n",
    "from sklearn.model_selection import train_test_split\n",
    "\n",
    "%load_ext autoreload\n",
    "%autoreload 2   "
   ]
  },
  {
   "cell_type": "code",
   "execution_count": 2,
   "id": "a11e5048-65cf-449b-afb5-3790711144a6",
   "metadata": {
    "tags": []
   },
   "outputs": [
    {
     "name": "stdout",
     "output_type": "stream",
     "text": [
      "The autoreload extension is already loaded. To reload it, use:\n",
      "  %reload_ext autoreload\n"
     ]
    }
   ],
   "source": [
    "import rasterio\n",
    "from rasterio.windows import Window\n",
    "from shapely.geometry.polygon import Polygon\n",
    "from shapely import geometry\n",
    "import tifffile as tiff\n",
    "import numpy as np\n",
    "import pandas as pd\n",
    "import os\n",
    "import matplotlib.pyplot as plt\n",
    "from pathlib import Path\n",
    "import uuid\n",
    "\n",
    "from dataset import (\n",
    "    get_dataset, \n",
    "    save_map,\n",
    ")\n",
    "from vis import (\n",
    "    plot_res\n",
    ")\n",
    "\n",
    "%load_ext autoreload\n",
    "%autoreload 2   "
   ]
  },
  {
   "cell_type": "code",
   "execution_count": 3,
   "id": "e62b4ab8-ef79-4e67-8600-76c2fea9e3d8",
   "metadata": {
    "tags": []
   },
   "outputs": [],
   "source": [
    "path_S2B = './data/tile_UTM38N/rasterized/'"
   ]
  },
  {
   "cell_type": "code",
   "execution_count": 6,
   "id": "34641f68-a508-4bb9-bd49-16397cebe375",
   "metadata": {
    "tags": []
   },
   "outputs": [],
   "source": [
    "with rasterio.open(f'{path_S2B}/age.tif') as src:\n",
    "    age_map = src.read(1)\n",
    "    \n",
    "with rasterio.open(f'{path_S2B}/volume.tif') as src:\n",
    "    volume_map = src.read(1)\n",
    "    \n",
    "with rasterio.open(f'{path_S2B}/type.tif') as src:\n",
    "    type_map = src.read(1)"
   ]
  },
  {
   "cell_type": "code",
   "execution_count": 12,
   "id": "fa1a848e-3b42-471b-a991-b9f7d79bbaa4",
   "metadata": {},
   "outputs": [],
   "source": [
    "def get_stock_map(age_map, volume_map, type_map):\n",
    "    age = age_map\n",
    "    \n",
    "    species = type_map\n",
    "    \n",
    "    volume = volume_map\n",
    "    \n",
    "    species_age = {\n",
    "    1: [[0, 40], [40, 100], [100, 120], [120, 1000]],\n",
    "    2: [[0, 20], [20, 40], [40, 50], [50, 1000]],\n",
    "    3: [[0, 20], [20, 40], [40, 50], [50, 1000]],\n",
    "    4: [[0, 20], [20, 30], [30, 40], [40, 1000]],\n",
    "    5: [[0, 40], [40, 100], [100, 120], [120, 1000]],\n",
    "              }\n",
    "\n",
    "    species_coeff = {\n",
    "        1: [0.409, 0.426, 0.431, 0.436],\n",
    "        2: [0.528, 0.534, 0.533, 0.528],\n",
    "        3: [0.45, 0.46, 0.46, 0.46],\n",
    "        4: [0.403, 0.426, 0.431, 0.444],\n",
    "        5: [0.452, 0.454, 0.454, 0.449],\n",
    "                    }\n",
    "\n",
    "    C_content = {\n",
    "        1: 0.5,\n",
    "        2: 0.47,\n",
    "        3: 0.48,\n",
    "        4: 0.47, \n",
    "        5: 0.5\n",
    "    }\n",
    "    \n",
    "    BCEF_species = {\n",
    "    1: np.zeros(volume.shape),\n",
    "    2: np.zeros(volume.shape), \n",
    "    3: np.zeros(volume.shape),\n",
    "    4: np.zeros(volume.shape),\n",
    "    5: np.zeros(volume.shape),\n",
    "               }\n",
    "\n",
    "    tmp_shape = np.ones(volume.shape)\n",
    "\n",
    "    for sp in BCEF_species.keys():\n",
    "        for age_ind in range(4):\n",
    "            specimen_mask = np.where(species == sp, 1, 0) \n",
    "            age_condition = (species_age[sp][age_ind][0] * tmp_shape < age) & (age <= species_age[sp][age_ind][1] * tmp_shape)\n",
    "            BCEF_species[sp] += np.where(age_condition, np.squeeze(specimen_mask * species_coeff[sp][age_ind]), 0)\n",
    "        BCEF_species[sp] *= C_content[sp]\n",
    "\n",
    "    carbon_stock = volume * sum(BCEF_species.values())\n",
    "    carbon_stock = np.where(carbon_stock > 0, carbon_stock, 0)\n",
    "    \n",
    "    return carbon_stock"
   ]
  },
  {
   "cell_type": "code",
   "execution_count": 13,
   "id": "faea1422-c8c9-4683-bf28-9b182e082a43",
   "metadata": {
    "tags": []
   },
   "outputs": [],
   "source": [
    "stock_map = get_stock_map(age_map, volume_map, type_map)"
   ]
  },
  {
   "cell_type": "code",
   "execution_count": 14,
   "id": "9140df77-d336-494f-b0f6-a8830acb7c95",
   "metadata": {
    "tags": []
   },
   "outputs": [
    {
     "data": {
      "text/plain": [
       "(9452, 10345)"
      ]
     },
     "execution_count": 14,
     "metadata": {},
     "output_type": "execute_result"
    }
   ],
   "source": [
    "stock_map.shape"
   ]
  },
  {
   "cell_type": "code",
   "execution_count": 16,
   "id": "87ee0dae-bc2f-473f-935d-47b9b1e2c8ed",
   "metadata": {
    "tags": []
   },
   "outputs": [],
   "source": [
    "stock_map = np.where(age_map > 0, stock_map, 0)"
   ]
  },
  {
   "cell_type": "code",
   "execution_count": 18,
   "id": "ec693e5e-0942-47d3-875e-3c24af838c8b",
   "metadata": {
    "tags": []
   },
   "outputs": [],
   "source": [
    "with rasterio.open(f'{path_S2B}/age.tif') as src:\n",
    "    params = src.meta.copy()\n",
    "\n",
    "with rasterio.open(f'./preds/carbon_stock.tif', 'w', **params) as dst: \n",
    "    dst.write(stock_map, indexes=1)"
   ]
  },
  {
   "cell_type": "code",
   "execution_count": null,
   "id": "a5705c55-dd95-416d-bcba-9d4833343a86",
   "metadata": {},
   "outputs": [],
   "source": []
  }
 ],
 "metadata": {
  "kernelspec": {
   "display_name": "Python 3 (ipykernel)",
   "language": "python",
   "name": "python3"
  },
  "language_info": {
   "codemirror_mode": {
    "name": "ipython",
    "version": 3
   },
   "file_extension": ".py",
   "mimetype": "text/x-python",
   "name": "python",
   "nbconvert_exporter": "python",
   "pygments_lexer": "ipython3",
   "version": "3.10.13"
  }
 },
 "nbformat": 4,
 "nbformat_minor": 5
}
