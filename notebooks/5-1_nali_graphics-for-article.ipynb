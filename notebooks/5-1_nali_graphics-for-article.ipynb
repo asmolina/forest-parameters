{
 "cells": [
  {
   "cell_type": "code",
   "execution_count": 8,
   "id": "92934df6-10ff-4b47-8f38-749cd18f8b27",
   "metadata": {
    "tags": []
   },
   "outputs": [],
   "source": [
    "from rasterio.windows import Window\n",
    "import pandas as pd\n",
    "\n",
    "from dataset import (\n",
    "    get_dataset, \n",
    "    save_map, \n",
    "    save_pred_map_to_tif\n",
    ")"
   ]
  },
  {
   "cell_type": "code",
   "execution_count": 15,
   "id": "606d1bad-e733-4325-bfd4-dbf601f12464",
   "metadata": {
    "tags": []
   },
   "outputs": [],
   "source": [
    "path_S2B = './data/tile_UTM38N/20180730'"
   ]
  },
  {
   "cell_type": "code",
   "execution_count": 16,
   "id": "43f27455-a18f-497c-8f74-49afc6dfc3b4",
   "metadata": {
    "tags": []
   },
   "outputs": [],
   "source": [
    "channels = ['volume', 'age', 'basal_area', 'carbon_stock', 'height', 'type']"
   ]
  },
  {
   "cell_type": "code",
   "execution_count": 17,
   "id": "103958d4-faf5-473a-832f-593cb1b03c57",
   "metadata": {
    "tags": []
   },
   "outputs": [],
   "source": [
    "# Get table with types and ages\n",
    "y0, x0 = 6000, 0\n",
    "window_n = Window.from_slices((y0, y0 + 4000), (x0, x0 + 2700))\n",
    "\n",
    "y0, x0 = 0, 5700\n",
    "window_r = Window.from_slices((y0, y0 + 7000), (x0, x0 + 10000))\n",
    "\n",
    "\n",
    "### Test\n",
    "y0, x0 = 7500, 2700\n",
    "window_k = Window.from_slices((y0, y0 + 3000), (x0, x0 + 1200))"
   ]
  },
  {
   "cell_type": "code",
   "execution_count": 18,
   "id": "804b0684-6589-47b7-a64d-23b4788b9ebd",
   "metadata": {
    "tags": []
   },
   "outputs": [],
   "source": [
    "def stack_several_dates_dataset(path_S2B_list, \n",
    "                              target, \n",
    "                              channels_list=['B02'], \n",
    "                              window=None, \n",
    "                              indices=False):\n",
    "    dataset_list = []\n",
    "    ch_list = channels_list + [target]\n",
    "\n",
    "    for path_S2B in path_S2B_list:\n",
    "        dataset = get_dataset(\n",
    "            path_S2B, \n",
    "            channels_list=ch_list, \n",
    "            window=window, \n",
    "            visualise=False, \n",
    "            indices=indices)\n",
    "        \n",
    "        dataset = dataset[dataset[target] > 0]\n",
    "       \n",
    "        dataset_list.append(dataset)\n",
    "\n",
    "    dataset = pd.concat(dataset_list)\n",
    "        \n",
    "    return dataset"
   ]
  },
  {
   "cell_type": "code",
   "execution_count": 38,
   "id": "43c5b6e0-5098-4006-ba62-8097f6767543",
   "metadata": {
    "tags": []
   },
   "outputs": [],
   "source": [
    "train_dataset = pd.concat([\n",
    "    stack_several_dates_dataset([path_S2B], 'age', channels_list=channels, window=window_n, indices=False),\n",
    "    stack_several_dates_dataset([path_S2B], 'age', channels_list=channels, window=window_r, indices=False),\n",
    "])\n",
    "\n",
    "test_dataset = stack_several_dates_dataset([path_S2B], 'age', channels_list=channels, window=window_k, indices=False)"
   ]
  },
  {
   "cell_type": "code",
   "execution_count": 41,
   "id": "bac4646d-39b9-42d9-8bf8-b7762dc9bd5c",
   "metadata": {
    "tags": []
   },
   "outputs": [
    {
     "data": {
      "text/plain": [
       "<AxesSubplot: >"
      ]
     },
     "execution_count": 41,
     "metadata": {},
     "output_type": "execute_result"
    },
    {
     "data": {
      "image/png": "[encoded data removed]",
      "text/plain": [
       "<Figure size 640x480 with 1 Axes>"
      ]
     },
     "metadata": {},
     "output_type": "display_data"
    }
   ],
   "source": [
    "test_dataset['carbon_stock'].hist(bins=20)"
   ]
  },
  {
   "cell_type": "code",
   "execution_count": 155,
   "id": "73b4210c-a1fd-4544-9275-7e54c8796214",
   "metadata": {
    "tags": []
   },
   "outputs": [],
   "source": [
    "def calculate_areas_distribution(dataset, \n",
    "                                 column='carbon_stock', \n",
    "                                 bins_range=(0, 150), \n",
    "                                 bins_freq=10):\n",
    "    # create intervals\n",
    "    bins = pd.interval_range(*bins_range, freq=bins_freq)\n",
    "\n",
    "    # assign each value in df[\"column\"] to bin and count bin occurences\n",
    "    counts = pd.cut(dataset[column], bins).value_counts()\n",
    "    km2 = counts * 100 / 1_000_000\n",
    "\n",
    "    # create a DataFrame, indexed by interval midpoints\n",
    "    df = pd.DataFrame(km2[bins], index=bins.mid)\n",
    "    return df, bins"
   ]
  },
  {
   "cell_type": "markdown",
   "id": "3c35daf7-75a5-46c3-8817-c305e9afeb80",
   "metadata": {},
   "source": [
    "# Carbon stock"
   ]
  },
  {
   "cell_type": "code",
   "execution_count": 233,
   "id": "9b7e30dd-7e77-446c-b8fb-7faa4c259255",
   "metadata": {
    "tags": []
   },
   "outputs": [],
   "source": [
    "cmin=0\n",
    "cmax=150\n",
    "csize=10\n",
    "\n",
    "df_train, bins = calculate_areas_distribution(\n",
    "    train_dataset, \n",
    "    column='carbon_stock', \n",
    "    bins_range=(cmin, cmax), \n",
    "    bins_freq=csize\n",
    ")\n",
    "\n",
    "df_test, bins = calculate_areas_distribution(\n",
    "    test_dataset, \n",
    "    column='carbon_stock', \n",
    "    bins_range=(cmin, cmax), \n",
    "    bins_freq=csize\n",
    ")\n",
    "\n",
    "colors_carbonstock_greens_0_150 = [\"#eef8ea\", \"#e4f5df\", \"#d5efcf\",\n",
    "                                   \"#c5e8be\", \"#b2e0ab\", \"#9ed798\", \n",
    "                                   \"#86cd85\", \"#6fc173\", \"#55b567\",\n",
    "                                   \"#3da75a\", \"#2e964e\", \"#1d8641\",\n",
    "                                   \"#0a7533\", \"#005f26\", \"#00441b\",]\n",
    "ticks = [str(i_bin.left)+' - '+str(i_bin.right) for i_bin in bins]"
   ]
  },
  {
   "cell_type": "markdown",
   "id": "07054abc-675a-4703-b51c-a15fc1e7cabe",
   "metadata": {
    "jp-MarkdownHeadingCollapsed": true,
    "tags": []
   },
   "source": [
    "## №1.\n",
    "в этом варианте цвета в каждом столбике соответствуют цветам из карты"
   ]
  },
  {
   "cell_type": "code",
   "execution_count": 169,
   "id": "90733ff1-b422-4305-b57b-760a2e724635",
   "metadata": {
    "tags": []
   },
   "outputs": [],
   "source": [
    "fig = go.Figure()\n",
    "fig.add_trace(\n",
    "    go.Histogram(\n",
    "        x=df_train.index,\n",
    "        y=df_train['count'], \n",
    "        histfunc=\"sum\",\n",
    "        xbins=dict(start=cmin, end=cmax, size=csize),\n",
    "        name='Train set',\n",
    "        marker=dict(\n",
    "            cmin=cmin, \n",
    "            cmax=cmax, \n",
    "            color=colors_carbonstock_greens_0_150,\n",
    "        ),\n",
    "    )\n",
    ")\n",
    "\n",
    "fig.add_trace(\n",
    "    go.Histogram(\n",
    "        x=df_test.index,\n",
    "        y=df_test['count'], \n",
    "        histfunc=\"sum\",\n",
    "        name='Test set',\n",
    "        xbins=dict(start=cmin, end=cmax, size=csize),\n",
    "        marker=dict(\n",
    "            cmin=cmin, \n",
    "            cmax=cmax,  \n",
    "            color=colors_carbonstock_greens_0_150,\n",
    "            # pattern_shape='+',\n",
    "            # pattern_size=0.1,\n",
    "        ),\n",
    "    )\n",
    ")\n",
    "\n",
    "\n",
    "fig.update_layout(\n",
    "    #barmode='overlay', \n",
    "    template='simple_white',\n",
    "    # xaxis = dict(tickmode = 'linear', tick0=cmin, dtick=csize,),\n",
    "    xaxis = dict(tickmode = 'array',\n",
    "                 tickvals = df_train.index.tolist(),\n",
    "                 ticktext = ticks),\n",
    "    \n",
    "    xaxis_title_text=r'$\\text{Carbon stock} \\left[\\frac{\\text{t C}}{\\text{ha}}\\right]$',\n",
    "    yaxis_title_text=r'$\\text{km}^2$', \n",
    "    xaxis_tickangle=45,\n",
    "    yaxis_gridwidth=0.01,\n",
    "    bargap=0.1, # gap between bars of adjacent location coordinates\n",
    "    bargroupgap=0.01, # gap between bars of the same location coordinates\n",
    "    height=600, \n",
    "    width=600,\n",
    "    \n",
    ")\n",
    "fig.write_image(f\"plots/carbon_stock_train_test_bins_areas.pdf\")"
   ]
  },
  {
   "cell_type": "markdown",
   "id": "84528b90-a834-4333-a392-6194cbe1c5cb",
   "metadata": {
    "tags": []
   },
   "source": [
    "## №2.\n",
    "в этом варианте только два цвета"
   ]
  },
  {
   "cell_type": "code",
   "execution_count": 234,
   "id": "ac4e2372-9194-4e10-ac17-41a8ed33efea",
   "metadata": {
    "tags": []
   },
   "outputs": [],
   "source": [
    "fig = go.Figure()\n",
    "fig.add_trace(\n",
    "    go.Histogram(\n",
    "        x=df_train.index,\n",
    "        y=df_train['count'], \n",
    "        histfunc=\"sum\",\n",
    "        xbins=dict(start=cmin, end=cmax, size=csize),\n",
    "        name='Train set',\n",
    "        marker=dict(\n",
    "            cmin=cmin, \n",
    "            cmax=cmax, \n",
    "            color=\"#2e964e\",\n",
    "        ),\n",
    "    )\n",
    ")\n",
    "\n",
    "fig.add_trace(\n",
    "    go.Histogram(\n",
    "        x=df_test.index,\n",
    "        y=df_test['count'], \n",
    "        histfunc=\"sum\",\n",
    "        name='Test set',\n",
    "        xbins=dict(start=cmin, end=cmax, size=csize),\n",
    "        marker=dict(\n",
    "            cmin=cmin, \n",
    "            cmax=cmax,  \n",
    "            color=\"#6fc173\",\n",
    "        ),\n",
    "    )\n",
    ")\n",
    "\n",
    "\n",
    "fig.update_layout(\n",
    "    #barmode='overlay', \n",
    "    template='none',\n",
    "    # xaxis = dict(tickmode = 'linear', tick0=cmin, dtick=csize,),\n",
    "    xaxis = dict(tickmode = 'array',\n",
    "                 tickvals = df_train.index.tolist(),\n",
    "                 ticktext = ticks),\n",
    "    \n",
    "    xaxis_title_text=r'$\\text{Carbon stock} \\left[\\frac{\\text{t C}}{\\text{ha}}\\right]$',\n",
    "    yaxis_title_text=r'$\\text{Total area } \\left[\\text{km}^2\\right]$', \n",
    "    xaxis_tickangle=45,\n",
    "    yaxis_gridwidth=0.01,\n",
    "    bargap=0.1, # gap between bars of adjacent location coordinates\n",
    "    bargroupgap=0.01, # gap between bars of the same location coordinates\n",
    "    height=600, \n",
    "    width=600,\n",
    "    \n",
    ")\n",
    "fig.update_layout(legend=dict(\n",
    "    yanchor=\"top\",\n",
    "    y=0.99,\n",
    "    xanchor=\"left\",\n",
    "    x=0.9\n",
    "))\n",
    "fig.write_image(f\"plots/carbon_stock_train_test_bins_areas_2colors.pdf\")"
   ]
  },
  {
   "cell_type": "code",
   "execution_count": null,
   "id": "db456d22-9f8b-4b9d-b571-9e3f48c80dea",
   "metadata": {},
   "outputs": [],
   "source": []
  },
  {
   "cell_type": "markdown",
   "id": "49461b1f-f1d0-4996-9c43-33838cb8afa0",
   "metadata": {},
   "source": [
    "# Age"
   ]
  },
  {
   "cell_type": "code",
   "execution_count": 235,
   "id": "d4318c32-2a0d-48df-bc92-390e66cfaa64",
   "metadata": {
    "tags": []
   },
   "outputs": [],
   "source": [
    "cmin=0\n",
    "cmax=150\n",
    "csize=15\n",
    "\n",
    "df_train, bins = calculate_areas_distribution(\n",
    "    train_dataset, \n",
    "    column='age', \n",
    "    bins_range=(cmin, cmax), \n",
    "    bins_freq=csize\n",
    ")\n",
    "\n",
    "df_test, bins = calculate_areas_distribution(\n",
    "    test_dataset, \n",
    "    column='age', \n",
    "    bins_range=(cmin, cmax), \n",
    "    bins_freq=csize\n",
    ")\n",
    "\n",
    "colors_age_pink_0_135 = [\"#f1eef6\", \"#e5d5e9\", \"#dabbdb\",\n",
    "                           \"#da9acb\", \"#dd77b9\", \"#df55a3\", \n",
    "                           \"#de348a\", \"#d51971\", \"#b70c5a\",\n",
    "                           \"#980043\",\n",
    "                          ]\n",
    "ticks = [str(i_bin.left)+' - '+str(i_bin.right) for i_bin in bins]"
   ]
  },
  {
   "cell_type": "code",
   "execution_count": 236,
   "id": "d94ae4eb-52b4-4196-b5f9-6af106f2eef0",
   "metadata": {
    "tags": []
   },
   "outputs": [],
   "source": [
    "fig = go.Figure()\n",
    "fig.add_trace(\n",
    "    go.Histogram(\n",
    "        x=df_train.index,\n",
    "        y=df_train['count'], \n",
    "        histfunc=\"sum\",\n",
    "        xbins=dict(start=cmin, end=cmax, size=csize),\n",
    "        name='Train set',\n",
    "        marker=dict(\n",
    "            cmin=cmin, \n",
    "            cmax=cmax, \n",
    "            color=\"#d51971\",\n",
    "        ),\n",
    "    )\n",
    ")\n",
    "\n",
    "fig.add_trace(\n",
    "    go.Histogram(\n",
    "        x=df_test.index,\n",
    "        y=df_test['count'], \n",
    "        histfunc=\"sum\",\n",
    "        name='Test set',\n",
    "        xbins=dict(start=cmin, end=cmax, size=csize),\n",
    "        marker=dict(\n",
    "            cmin=cmin, \n",
    "            cmax=cmax,  \n",
    "            color=\"#da9acb\",\n",
    "        ),\n",
    "    )\n",
    ")\n",
    "\n",
    "\n",
    "fig.update_layout(\n",
    "    #barmode='overlay', \n",
    "    template='none',\n",
    "    # xaxis = dict(tickmode = 'linear', tick0=cmin, dtick=csize,),\n",
    "    xaxis = dict(tickmode = 'array',\n",
    "                 tickvals = df_train.index.tolist(),\n",
    "                 ticktext = ticks),\n",
    "    \n",
    "    xaxis_title_text=r'$\\text{Age} \\left[\\text{yrs}\\right]$',\n",
    "    yaxis_title_text=r'$\\text{Total area } \\left[\\text{km}^2\\right]$',  \n",
    "    xaxis_tickangle=45,\n",
    "    yaxis_gridwidth=0.01,\n",
    "    bargap=0.1, # gap between bars of adjacent location coordinates\n",
    "    bargroupgap=0.01, # gap between bars of the same location coordinates\n",
    "    height=600, \n",
    "    width=600,\n",
    "    \n",
    ")\n",
    "\n",
    "fig.update_layout(legend=dict(\n",
    "    yanchor=\"top\",\n",
    "    y=0.99,\n",
    "    xanchor=\"left\",\n",
    "    x=0.9\n",
    "))\n",
    "\n",
    "\n",
    "fig.write_image(f\"plots/age_train_test_bins_areas_2colors.pdf\")"
   ]
  },
  {
   "cell_type": "code",
   "execution_count": null,
   "id": "f3325cf7-4e31-4d4b-9940-0291507dcc5e",
   "metadata": {},
   "outputs": [],
   "source": []
  },
  {
   "cell_type": "markdown",
   "id": "f4c4ac10-e616-4671-940b-c092c94dd41e",
   "metadata": {},
   "source": [
    "# Height"
   ]
  },
  {
   "cell_type": "code",
   "execution_count": 237,
   "id": "9b1c0879-945c-490b-8c7d-af4aee5eec3a",
   "metadata": {
    "tags": []
   },
   "outputs": [],
   "source": [
    "cmin=0\n",
    "cmax=30\n",
    "csize=2\n",
    "\n",
    "df_train, bins = calculate_areas_distribution(\n",
    "    train_dataset, \n",
    "    column='height', \n",
    "    bins_range=(cmin, cmax), \n",
    "    bins_freq=csize\n",
    ")\n",
    "\n",
    "df_test, bins = calculate_areas_distribution(\n",
    "    test_dataset, \n",
    "    column='height', \n",
    "    bins_range=(cmin, cmax), \n",
    "    bins_freq=csize\n",
    ")\n",
    "\n",
    "colors_height_purples_0_30 = [\"#fcfbfd\",\"#f5f3f9\",\"#edebf4\",\n",
    "                              \"#e1e1ef\",\"#d4d4e8\",\"#c4c4e0\",\n",
    "                              \"#b3b3d6\",\"#a39fcb\",\"#928fc2\",\n",
    "                              \"#827fbb\",\"#7261ab\",\"#65479e\",\n",
    "                              \"#5a3395\",\"#4e1c8a\",\"#3f007d\",]\n",
    "\n",
    "ticks = [str(i_bin.left)+' - '+str(i_bin.right) for i_bin in bins]"
   ]
  },
  {
   "cell_type": "code",
   "execution_count": 238,
   "id": "48ef96c5-3aa9-4ab3-86cd-545a8caa9a0e",
   "metadata": {
    "tags": []
   },
   "outputs": [],
   "source": [
    "fig = go.Figure()\n",
    "fig.add_trace(\n",
    "    go.Histogram(\n",
    "        x=df_train.index,\n",
    "        y=df_train['count'], \n",
    "        histfunc=\"sum\",\n",
    "        xbins=dict(start=cmin, end=cmax, size=csize),\n",
    "        name='Train set',\n",
    "        marker=dict(\n",
    "            cmin=cmin, \n",
    "            cmax=cmax, \n",
    "            color=\"#65479e\",\n",
    "        ),\n",
    "    )\n",
    ")\n",
    "\n",
    "fig.add_trace(\n",
    "    go.Histogram(\n",
    "        x=df_test.index,\n",
    "        y=df_test['count'], \n",
    "        histfunc=\"sum\",\n",
    "        name='Test set',\n",
    "        xbins=dict(start=cmin, end=cmax, size=csize),\n",
    "        marker=dict(\n",
    "            cmin=cmin, \n",
    "            cmax=cmax,  \n",
    "            color=\"#928fc2\",\n",
    "        ),\n",
    "    )\n",
    ")\n",
    "\n",
    "\n",
    "fig.update_layout(\n",
    "    #barmode='overlay', \n",
    "    template='none',\n",
    "    # xaxis = dict(tickmode = 'linear', tick0=cmin, dtick=csize,),\n",
    "    xaxis = dict(tickmode = 'array',\n",
    "                 tickvals = df_train.index.tolist(),\n",
    "                 ticktext = ticks),\n",
    "    \n",
    "    xaxis_title_text=r'$\\text{Height} \\left[\\text{m}\\right]$',\n",
    "    yaxis_title_text=r'$\\text{Total area } \\left[\\text{km}^2\\right]$', \n",
    "    xaxis_tickangle=45,\n",
    "    yaxis_gridwidth=0.01,\n",
    "    bargap=0.1, # gap between bars of adjacent location coordinates\n",
    "    bargroupgap=0.01, # gap between bars of the same location coordinates\n",
    "    height=600, \n",
    "    width=600,\n",
    "    \n",
    ")\n",
    "\n",
    "fig.update_layout(legend=dict(\n",
    "    yanchor=\"top\",\n",
    "    y=0.99,\n",
    "    xanchor=\"left\",\n",
    "    x=0.9\n",
    "))\n",
    "\n",
    "\n",
    "fig.write_image(f\"plots/height_train_test_bins_areas_2colors.pdf\")"
   ]
  },
  {
   "cell_type": "markdown",
   "id": "94e0dd27-59d5-43a5-a7a5-6d191009c92a",
   "metadata": {
    "tags": []
   },
   "source": [
    "# Basal area"
   ]
  },
  {
   "cell_type": "code",
   "execution_count": 239,
   "id": "ca80f5cd-5d15-49d4-bbbb-46e44c0dcdb8",
   "metadata": {
    "tags": []
   },
   "outputs": [],
   "source": [
    "cmin=0\n",
    "cmax=24\n",
    "csize=2\n",
    "\n",
    "df_train, bins = calculate_areas_distribution(\n",
    "    train_dataset, \n",
    "    column='basal_area', \n",
    "    bins_range=(cmin, cmax), \n",
    "    bins_freq=csize\n",
    ")\n",
    "\n",
    "df_test, bins = calculate_areas_distribution(\n",
    "    test_dataset, \n",
    "    column='basal_area', \n",
    "    bins_range=(cmin, cmax), \n",
    "    bins_freq=csize\n",
    ")\n",
    "\n",
    "colors_basalarea_blues_0_24 = [\"#e7f1fa\",\"#d7e6f5\",\"#c8dcf0\",\n",
    "                               \"#afd1e7\",\"#94c4df\",\"#73b2d8\",\n",
    "                               \"#57a0ce\",\"#3e8ec4\",\"#2979b9\",\n",
    "                               \"#1663aa\",\"#084c94\",\"#08306b\",]\n",
    "            \n",
    "ticks = [str(i_bin.left)+' - '+str(i_bin.right) for i_bin in bins]"
   ]
  },
  {
   "cell_type": "code",
   "execution_count": 240,
   "id": "f1da5795-df2a-4e27-ab56-1fc3228ef6e6",
   "metadata": {
    "tags": []
   },
   "outputs": [],
   "source": [
    "fig = go.Figure()\n",
    "fig.add_trace(\n",
    "    go.Histogram(\n",
    "        x=df_train.index,\n",
    "        y=df_train['count'], \n",
    "        histfunc=\"sum\",\n",
    "        xbins=dict(start=cmin, end=cmax, size=csize),\n",
    "        name='Train set',\n",
    "        marker=dict(\n",
    "            cmin=cmin, \n",
    "            cmax=cmax, \n",
    "            color=\"#2979b9\",\n",
    "        ),\n",
    "    )\n",
    ")\n",
    "\n",
    "fig.add_trace(\n",
    "    go.Histogram(\n",
    "        x=df_test.index,\n",
    "        y=df_test['count'], \n",
    "        histfunc=\"sum\",\n",
    "        name='Test set',\n",
    "        xbins=dict(start=cmin, end=cmax, size=csize),\n",
    "        marker=dict(\n",
    "            cmin=cmin, \n",
    "            cmax=cmax,  \n",
    "            color=\"#73b2d8\",\n",
    "        ),\n",
    "    )\n",
    ")\n",
    "\n",
    "\n",
    "fig.update_layout(\n",
    "    #barmode='overlay', \n",
    "    template='none',\n",
    "    # xaxis = dict(tickmode = 'linear', tick0=cmin, dtick=csize,),\n",
    "    xaxis = dict(tickmode = 'array',\n",
    "                 tickvals = df_train.index.tolist(),\n",
    "                 ticktext = ticks),\n",
    "    \n",
    "    xaxis_title_text=r'$\\text{Basal area} \\left[\\frac{\\text{m}^2}{\\text{ha}}\\right]$',\n",
    "    yaxis_title_text=r'$\\text{Total area } \\left[\\text{km}^2\\right]$',  \n",
    "    xaxis_tickangle=45,\n",
    "    yaxis_gridwidth=0.01,\n",
    "    bargap=0.1, # gap between bars of adjacent location coordinates\n",
    "    bargroupgap=0.01, # gap between bars of the same location coordinates\n",
    "    height=600, \n",
    "    width=600,\n",
    "    \n",
    ")\n",
    "\n",
    "fig.update_layout(legend=dict(\n",
    "    yanchor=\"top\",\n",
    "    y=0.99,\n",
    "    xanchor=\"left\",\n",
    "    x=0.9\n",
    "))\n",
    "\n",
    "\n",
    "fig.write_image(f\"plots/basal_area_train_test_bins_areas_2colors.pdf\")"
   ]
  },
  {
   "cell_type": "markdown",
   "id": "85030cfc-880d-45f6-b1d2-b95b59f5b0e2",
   "metadata": {},
   "source": [
    "# Volume"
   ]
  },
  {
   "cell_type": "code",
   "execution_count": 241,
   "id": "59c2a4b4-e0e5-42e0-8072-c06a81487f05",
   "metadata": {
    "tags": []
   },
   "outputs": [],
   "source": [
    "cmin=0\n",
    "cmax=450\n",
    "csize=50\n",
    "\n",
    "df_train, bins = calculate_areas_distribution(\n",
    "    train_dataset, \n",
    "    column='volume', \n",
    "    bins_range=(cmin, cmax), \n",
    "    bins_freq=csize\n",
    ")\n",
    "\n",
    "df_test, bins = calculate_areas_distribution(\n",
    "    test_dataset, \n",
    "    column='volume', \n",
    "    bins_range=(cmin, cmax), \n",
    "    bins_freq=csize\n",
    ")\n",
    "\n",
    "colors_volume_oranges_0_500 = [\"#fff5eb\", \"#fee8d2\", \"#fdd6af\",\n",
    "                               \"#fdbd83\", \"#fda057\", \"#fa8331\",\n",
    "                               \"#ee6511\", \"#d94901\", \"#ab3803\", \"#7f2704\",]\n",
    "            \n",
    "ticks = [str(i_bin.left)+' - '+str(i_bin.right) for i_bin in bins]"
   ]
  },
  {
   "cell_type": "code",
   "execution_count": 242,
   "id": "f0c1a787-af0d-4d2e-a994-a5d11f7ee718",
   "metadata": {
    "tags": []
   },
   "outputs": [],
   "source": [
    "fig = go.Figure()\n",
    "fig.add_trace(\n",
    "    go.Histogram(\n",
    "        x=df_train.index,\n",
    "        y=df_train['count'], \n",
    "        histfunc=\"sum\",\n",
    "        xbins=dict(start=cmin, end=cmax, size=csize),\n",
    "        name='Train set',\n",
    "        marker=dict(\n",
    "            cmin=cmin, \n",
    "            cmax=cmax, \n",
    "            color=\"#ee6511\",\n",
    "        ),\n",
    "    )\n",
    ")\n",
    "\n",
    "fig.add_trace(\n",
    "    go.Histogram(\n",
    "        x=df_test.index,\n",
    "        y=df_test['count'], \n",
    "        histfunc=\"sum\",\n",
    "        name='Test set',\n",
    "        xbins=dict(start=cmin, end=cmax, size=csize),\n",
    "        marker=dict(\n",
    "            cmin=cmin, \n",
    "            cmax=cmax,  \n",
    "            color=\"#fda057\",\n",
    "        ),\n",
    "    )\n",
    ")\n",
    "\n",
    "\n",
    "fig.update_layout(\n",
    "    #barmode='overlay', \n",
    "    template='none',\n",
    "    # xaxis = dict(tickmode = 'linear', tick0=cmin, dtick=csize,),\n",
    "    xaxis = dict(tickmode = 'array',\n",
    "                 tickvals = df_train.index.tolist(),\n",
    "                 ticktext = ticks),\n",
    "    \n",
    "    xaxis_title_text=r'$\\text{Timber stock} \\left[\\frac{\\text{m}^3}{\\text{ha}}\\right]$',\n",
    "    yaxis_title_text=r'$\\text{Total area } \\left[\\text{km}^2\\right]$',  \n",
    "    xaxis_tickangle=45,\n",
    "    yaxis_gridwidth=0.01,\n",
    "    bargap=0.1, # gap between bars of adjacent location coordinates\n",
    "    bargroupgap=0.01, # gap between bars of the same location coordinates\n",
    "    height=600, \n",
    "    width=600,\n",
    "    \n",
    ")\n",
    "\n",
    "fig.update_layout(legend=dict(\n",
    "    yanchor=\"top\",\n",
    "    y=0.99,\n",
    "    xanchor=\"left\",\n",
    "    x=0.9\n",
    "))\n",
    "\n",
    "\n",
    "fig.write_image(f\"plots/volume_train_test_bins_areas_2colors.pdf\")"
   ]
  },
  {
   "cell_type": "code",
   "execution_count": null,
   "id": "72efb0ed-b814-46e9-8308-4dcad6de5430",
   "metadata": {},
   "outputs": [],
   "source": []
  },
  {
   "cell_type": "markdown",
   "id": "3d8949e5-5aa3-4a19-9d18-aaa9defb754b",
   "metadata": {},
   "source": [
    "# Type"
   ]
  },
  {
   "cell_type": "code",
   "execution_count": 243,
   "id": "1c3ce971-7893-4735-a3d6-63ce6c4554a9",
   "metadata": {
    "tags": []
   },
   "outputs": [],
   "source": [
    "species_dict = {\n",
    "    1: 'Spruce',\n",
    "    2: 'Birch',\n",
    "    3: 'Mix',\n",
    "    4: 'Aspen',\n",
    "    5: 'Pine',\n",
    "}\n",
    "\n",
    "bins = list(species_dict.values())\n",
    "counts = train_dataset['type'].replace(species_dict).value_counts()\n",
    "km2 = counts * 100 / 1_000_000\n",
    "df_train = pd.DataFrame(km2[bins], index=bins)\n",
    "\n",
    "\n",
    "bins = list(species_dict.values())\n",
    "counts = test_dataset['type'].replace(species_dict).value_counts()\n",
    "km2 = counts * 100 / 1_000_000\n",
    "df_test = pd.DataFrame(km2[bins], index=bins)\n",
    "\n",
    "colors_5species_viridis=[\"#440154\", \"#3b528b\", \"#27ad81\", \"#7ad151\", \"#fde725\"]"
   ]
  },
  {
   "cell_type": "code",
   "execution_count": 244,
   "id": "a8909eee-3e60-4c3e-a82d-ec6d711105d2",
   "metadata": {
    "tags": []
   },
   "outputs": [
    {
     "data": {
      "text/plain": [
       "['Spruce', 'Birch', 'Mix', 'Aspen', 'Pine']"
      ]
     },
     "execution_count": 244,
     "metadata": {},
     "output_type": "execute_result"
    }
   ],
   "source": [
    "bins"
   ]
  },
  {
   "cell_type": "code",
   "execution_count": 247,
   "id": "143710c0-9da3-4589-a431-1739164193da",
   "metadata": {
    "tags": []
   },
   "outputs": [],
   "source": [
    "fig = go.Figure()\n",
    "fig.add_trace(\n",
    "    go.Histogram(\n",
    "        x=df_train.index,\n",
    "        y=df_train['count'], \n",
    "        histfunc=\"sum\",\n",
    "        name='Train set',\n",
    "        marker=dict(\n",
    "            cmin=cmin, \n",
    "            cmax=cmax, \n",
    "            color=\"#fde725\",\n",
    "        ),\n",
    "    )\n",
    ")\n",
    "\n",
    "fig.add_trace(\n",
    "    go.Histogram(\n",
    "        x=df_test.index,\n",
    "        y=df_test['count'], \n",
    "        histfunc=\"sum\",\n",
    "        name='Test set',\n",
    "        marker=dict(\n",
    "            cmin=cmin, \n",
    "            cmax=cmax,  \n",
    "            color=\"#7ad151\",\n",
    "        ),\n",
    "    )\n",
    ")\n",
    "\n",
    "\n",
    "fig.update_layout(\n",
    "    template='none',\n",
    "    xaxis = dict(tickmode = 'array',\n",
    "                 tickvals = df_train.index.tolist(),\n",
    "                 ticktext = bins),\n",
    "    \n",
    "    xaxis_title_text=r'$\\text{Prevailing species}$',\n",
    "    yaxis_title_text=r'$\\text{Total area } \\left[\\text{km}^2\\right]$', \n",
    "    xaxis_tickangle=0,\n",
    "    yaxis_gridwidth=0.01,\n",
    "    bargap=0.1, # gap between bars of adjacent location coordinates\n",
    "    bargroupgap=0.01, # gap between bars of the same location coordinates\n",
    "    height=600, \n",
    "    width=600,\n",
    "    \n",
    ")\n",
    "\n",
    "fig.update_layout(legend=dict(\n",
    "    yanchor=\"top\",\n",
    "    y=0.99,\n",
    "    xanchor=\"left\",\n",
    "    x=0.9\n",
    "))\n",
    "\n",
    "\n",
    "fig.write_image(f\"plots/species_train_test_bins_areas_2colors.pdf\")"
   ]
  },
  {
   "cell_type": "code",
   "execution_count": null,
   "id": "3ed7501d-028a-40fb-90e9-bbf92193303a",
   "metadata": {},
   "outputs": [],
   "source": []
  },
  {
   "cell_type": "code",
   "execution_count": null,
   "id": "f6995d5b-951a-4f3c-8894-1b15f1fe0bf0",
   "metadata": {},
   "outputs": [],
   "source": []
  },
  {
   "cell_type": "markdown",
   "id": "fb3f1760-78c6-4ce7-bc6b-c6212ca5f375",
   "metadata": {
    "jp-MarkdownHeadingCollapsed": true,
    "tags": []
   },
   "source": [
    "# etc."
   ]
  },
  {
   "cell_type": "code",
   "execution_count": 141,
   "id": "534a630e-0268-46fb-8f4a-524a0892f76f",
   "metadata": {},
   "outputs": [],
   "source": [
    "import plotly.express as px\n",
    "import plotly.graph_objects as go\n",
    "\n",
    "for temp in ['simple_white', 'plotly_white', 'ggplot2', 'none']:\n",
    "    fig = go.Figure()\n",
    "    fig.add_trace(\n",
    "        go.Histogram(\n",
    "            x=train_dataset['carbon_stock'], \n",
    "            xbins=dict(start=0, end=150, size=10),\n",
    "            name='Train set',\n",
    "            marker=dict(\n",
    "                cmin=0, \n",
    "                cmax=150, \n",
    "                color=[\n",
    "                       \"#eef8ea\", \n",
    "                       \"#e4f5df\",\n",
    "                       \"#d5efcf\",\n",
    "                       \"#c5e8be\",\n",
    "                       \"#b2e0ab\",\n",
    "                       \"#9ed798\",\n",
    "                       \"#86cd85\",\n",
    "                       \"#6fc173\",\n",
    "                       \"#55b567\",\n",
    "                       \"#3da75a\",\n",
    "                       \"#2e964e\",\n",
    "                       \"#1d8641\",\n",
    "                       \"#0a7533\",\n",
    "                       \"#005f26\",\n",
    "                       \"#00441b\",\n",
    "                ]\n",
    "            ),\n",
    "        )\n",
    "    )\n",
    "    \n",
    "    fig.add_trace(\n",
    "        go.Histogram(\n",
    "            x=test_dataset['carbon_stock'], \n",
    "            name='Test set',\n",
    "            xbins=dict(start=0, end=150, size=10),\n",
    "            marker=dict(\n",
    "                cmin=0, \n",
    "                cmax=150, \n",
    "                color=[\n",
    "                       \"#eef8ea\", \n",
    "                       \"#e4f5df\",\n",
    "                       \"#d5efcf\",\n",
    "                       \"#c5e8be\",\n",
    "                       \"#b2e0ab\",\n",
    "                       \"#9ed798\",\n",
    "                       \"#86cd85\",\n",
    "                       \"#6fc173\",\n",
    "                       \"#55b567\",\n",
    "                       \"#3da75a\",\n",
    "                       \"#2e964e\",\n",
    "                       \"#1d8641\",\n",
    "                       \"#0a7533\",\n",
    "                       \"#005f26\",\n",
    "                       \"#00441b\",\n",
    "                ],\n",
    "                # pattern=dict()\n",
    "            ),\n",
    "        )\n",
    "    )\n",
    "    \n",
    "    \n",
    "    fig.update_layout(\n",
    "        #barmode='overlay', \n",
    "        template=temp,\n",
    "        xaxis = dict(tickmode = 'linear', tick0 = 0.0, dtick = 10, ),\n",
    "        xaxis_title_text=r'$\\text{Carbon stock} \\left[\\frac{t C}{ha}\\right]$',\n",
    "        yaxis_title_text=r'$\\text{#pixels}$', \n",
    "        bargap=0.1, # gap between bars of adjacent location coordinates\n",
    "        bargroupgap=0.01, # gap between bars of the same location coordinates\n",
    "        height=500, \n",
    "        width=500,\n",
    "        \n",
    "    )\n",
    "    #fig.show()\n",
    "    fig.write_image(f\"plots/carbon_stock_train_test_bins_{temp}.pdf\")"
   ]
  },
  {
   "cell_type": "code",
   "execution_count": 140,
   "id": "9fcc0ea8-c197-4c94-9002-4c53c6f0ece1",
   "metadata": {},
   "outputs": [
    {
     "data": {
      "text/plain": [
       "Layout({\n",
       "    'bargap': 0.1,\n",
       "    'bargroupgap': 0.01,\n",
       "    'height': 500,\n",
       "    'template': '...',\n",
       "    'width': 500,\n",
       "    'xaxis': {'dtick': 10,\n",
       "              'tick0': 0,\n",
       "              'tickmode': 'linear',\n",
       "              'title': {'text': '$\\\\text{Carbon stock} \\\\left[\\\\frac{\\\\text{t C}}{\\\\text{ha}}\\\\right]$'}},\n",
       "    'yaxis': {'title': {'text': '$\\\\text{km}^2$'}}\n",
       "})"
      ]
     },
     "execution_count": 140,
     "metadata": {},
     "output_type": "execute_result"
    }
   ],
   "source": [
    "fig.layout"
   ]
  },
  {
   "cell_type": "code",
   "execution_count": null,
   "id": "f36aabd4-bd97-491a-bb26-080787f587d7",
   "metadata": {},
   "outputs": [],
   "source": []
  },
  {
   "cell_type": "code",
   "execution_count": null,
   "id": "2b0cfc53-ca9c-4809-8ca3-eb323f5abadd",
   "metadata": {},
   "outputs": [],
   "source": []
  },
  {
   "cell_type": "code",
   "execution_count": 43,
   "id": "0ef1d514-4c88-484d-8130-594b76efa6c8",
   "metadata": {
    "tags": []
   },
   "outputs": [
    {
     "data": {
      "text/plain": [
       "<AxesSubplot: >"
      ]
     },
     "execution_count": 43,
     "metadata": {},
     "output_type": "execute_result"
    },
    {
     "data": {
      "image/png": "[encoded data removed]",
      "text/plain": [
       "<Figure size 640x480 with 1 Axes>"
      ]
     },
     "metadata": {},
     "output_type": "display_data"
    }
   ],
   "source": [
    "train_dataset['carbon_stock'].hist(bins=20)"
   ]
  },
  {
   "cell_type": "code",
   "execution_count": null,
   "id": "f9c00bae-9c5b-449c-bc04-cd1b9c53e526",
   "metadata": {},
   "outputs": [],
   "source": []
  }
 ],
 "metadata": {
  "kernelspec": {
   "display_name": "Python 3 (ipykernel)",
   "language": "python",
   "name": "python3"
  },
  "language_info": {
   "codemirror_mode": {
    "name": "ipython",
    "version": 3
   },
   "file_extension": ".py",
   "mimetype": "text/x-python",
   "name": "python",
   "nbconvert_exporter": "python",
   "pygments_lexer": "ipython3",
   "version": "3.10.13"
  }
 },
 "nbformat": 4,
 "nbformat_minor": 5
}
